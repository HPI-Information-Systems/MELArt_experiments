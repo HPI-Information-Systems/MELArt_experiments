{
 "cells": [
  {
   "cell_type": "code",
   "execution_count": 31,
   "metadata": {},
   "outputs": [],
   "source": [
    "import os\n",
    "import json\n",
    "from pathlib import Path\n",
    "import urllib\n",
    "from tqdm import tqdm\n",
    "import paths"
   ]
  },
  {
   "cell_type": "code",
   "execution_count": 32,
   "metadata": {},
   "outputs": [],
   "source": [
    "base_melart_path = paths.OUTPUT_DATASETS_PATH / 'melart_mimic'\n",
    "base_melart_path.mkdir(exist_ok=True)\n",
    "kb_images_path = base_melart_path / 'kb_image'\n",
    "kb_images_path.mkdir(exist_ok=True)\n",
    "mention_images_path = base_melart_path / 'mention_image'\n",
    "mention_images_path.mkdir(exist_ok=True)"
   ]
  },
  {
   "cell_type": "code",
   "execution_count": 33,
   "metadata": {},
   "outputs": [],
   "source": [
    "candidates_folder = paths.CANDIDATES_FOLDER_PATH\n",
    "candidate_images_path = paths.MELART_IMAGES_PATH"
   ]
  },
  {
   "cell_type": "code",
   "execution_count": 34,
   "metadata": {},
   "outputs": [
    {
     "data": {
      "text/plain": [
       "['Tramroad bridge from entrance.jpg',\n",
       " 'Buick Skylark Sport Wagon 1st gen.jpg',\n",
       " 'Jose Cifuentes 2023.jpg',\n",
       " 'Bernard van Orley - Self-portrait on Exterior Panel of Triptych of Virtue of Patience.jpg',\n",
       " 'JimmyCarterPortrait2.jpg',\n",
       " 'Fuggerorum et Fuggerarum imagines - 005r.jpg',\n",
       " 'Titian – Cardinal Pietro Bembo – Google Art Project.jpg',\n",
       " 'Shotter Boys - The City Hall, Amsterdam - 1953P48 - Birmingham Museums Trust.jpg',\n",
       " 'PinkyLeeLadyofBurlesque.jpg',\n",
       " 'Simone Martini 040.jpg']"
      ]
     },
     "execution_count": 34,
     "metadata": {},
     "output_type": "execute_result"
    }
   ],
   "source": [
    "#list all candidate images\n",
    "candidate_images = [f for f in os.listdir(candidate_images_path) if os.path.isfile(os.path.join(candidate_images_path, f))]\n",
    "candidate_images[:10]"
   ]
  },
  {
   "cell_type": "code",
   "execution_count": 35,
   "metadata": {},
   "outputs": [
    {
     "data": {
      "text/plain": [
       "PosixPath('output_datasets/melart_mimic/kb_image')"
      ]
     },
     "execution_count": 35,
     "metadata": {},
     "output_type": "execute_result"
    }
   ],
   "source": [
    "kb_images_path"
   ]
  },
  {
   "cell_type": "code",
   "execution_count": 36,
   "metadata": {},
   "outputs": [],
   "source": [
    "commons_prefix=\"http://commons.wikimedia.org/wiki/Special:FilePath/\""
   ]
  },
  {
   "cell_type": "code",
   "execution_count": 37,
   "metadata": {},
   "outputs": [
    {
     "name": "stderr",
     "output_type": "stream",
     "text": [
      "100%|██████████| 53901/53901 [00:05<00:00, 9118.13it/s]\n"
     ]
    }
   ],
   "source": [
    "# read all the candidate json files from /hpi/fs00/share/fg-naumann/datasets/wikidata/slices/el_candidates and put them in a dictionary\n",
    "candidate_counter=0\n",
    "candidate_objects=[]\n",
    "candidate_index={}\n",
    "qid2id={}\n",
    "for file in tqdm(list(candidates_folder.iterdir())):\n",
    "    if not file.name.endswith('.json'):\n",
    "        continue\n",
    "    with open(file, 'r') as f:\n",
    "        candidate = json.load(f)\n",
    "        qid = file.name.split('.')[0]\n",
    "        #get all image urls\n",
    "        img_list=[]\n",
    "        images=candidate.get('images', [])\n",
    "        if images:\n",
    "            counter = 0\n",
    "            img_list=[]\n",
    "            for image in images:\n",
    "                try:\n",
    "                    ext=image.split('.')[-1]\n",
    "                    image_name=urllib.parse.unquote(image.split('/')[-1])\n",
    "                    if image_name in candidate_images:\n",
    "                        #create a symlink with the qid and a counter\n",
    "                        new_img_name=f'{qid}_{counter}.{ext}'\n",
    "                        dst=kb_images_path / new_img_name\n",
    "                        if not os.path.islink(dst):\n",
    "                            os.symlink(str(candidate_images_path / image_name), str(dst))\n",
    "                        img_list.append(new_img_name)\n",
    "                        counter+=1\n",
    "                except Exception as e:\n",
    "                    print(e)\n",
    "                    pass\n",
    "        candidate_types_dict=candidate.get('types', dict())\n",
    "        types_label_list=candidate_types_dict.values()\n",
    "        # if candidate.get('statements', {}).get('P31'):\n",
    "        #     for entity_type in candidate['statements']['P31']:\n",
    "        #         try:\n",
    "        #             types_qid_list.append(entity_type[\"value\"][\"content\"])\n",
    "        #         except:\n",
    "        #             pass\n",
    "        \"\"\"\n",
    "        build an object like this\n",
    "        {\n",
    "            \"qid\": \"Q99989\",\n",
    "            \"id\": 109974,\n",
    "            \"type\": \"entity\",\n",
    "            \"entity_name\": \"Slenaken\",\n",
    "            \"attr\": \"\",\n",
    "            \"instance\": \"village\",\n",
    "            \"image_list\": [\n",
    "                \"Q99989_0.jpg\"\n",
    "            ],\n",
    "            \"desc\": \"town in the Netherlands\"\n",
    "        },\n",
    "        \"\"\"\n",
    "        obj={}\n",
    "        obj['qid']=qid\n",
    "        obj['id']=candidate_counter\n",
    "        obj['type']='entity'\n",
    "        obj['entity_name']=candidate['labels']['main'] if candidate['labels'].get('main') else ''\n",
    "        if not obj['entity_name']:\n",
    "            #try the first alternative label\n",
    "            obj['entity_name']=candidate['labels']['alt'][0] if candidate['labels'].get('alt') and len(candidate['labels']['alt'])>0 else ''\n",
    "        obj[\"image_list\"]=img_list\n",
    "        obj['desc']=candidate.get('description', \"\")\n",
    "        entity_types=types_label_list\n",
    "        obj[\"instance\"]=\", \".join(entity_types)\n",
    "        obj['attr']=f\"{obj['entity_name']}. {obj['desc']}. Types: {obj['instance']}\" #not exacly attributes but there is no homogeneous set of attributes througout the candidates\n",
    "        candidate_objects.append(obj)\n",
    "        candidate_index[qid]=obj\n",
    "        qid2id[qid]=candidate_counter\n",
    "        candidate_counter+=1\n",
    "\n",
    "# write the candidate objects to a json file\n",
    "with open(base_melart_path / 'kb_entity_desc.json', 'w') as f:\n",
    "    json.dump(candidate_objects, f)\n",
    "\n",
    "# write qid2id to a json file\n",
    "with open(base_melart_path / 'qid2id.json', 'w') as f:\n",
    "    json.dump(qid2id, f)"
   ]
  },
  {
   "cell_type": "code",
   "execution_count": 38,
   "metadata": {},
   "outputs": [
    {
     "data": {
      "text/plain": [
       "53901"
      ]
     },
     "execution_count": 38,
     "metadata": {},
     "output_type": "execute_result"
    }
   ],
   "source": [
    "candidate_counter"
   ]
  },
  {
   "cell_type": "code",
   "execution_count": 39,
   "metadata": {},
   "outputs": [
    {
     "data": {
      "text/plain": [
       "53901"
      ]
     },
     "execution_count": 39,
     "metadata": {},
     "output_type": "execute_result"
    }
   ],
   "source": [
    "len(candidate_objects)"
   ]
  },
  {
   "cell_type": "markdown",
   "metadata": {},
   "source": [
    "Read the file with the paintings and the sentence mentions"
   ]
  },
  {
   "cell_type": "code",
   "execution_count": 40,
   "metadata": {},
   "outputs": [],
   "source": [
    "paintings_file = paths.COMBINED_ANNOTATIONS_PATH\n",
    "paintings=None\n",
    "with open(paintings_file, 'r') as f:\n",
    "    paintings = json.load(f)"
   ]
  },
  {
   "cell_type": "code",
   "execution_count": 41,
   "metadata": {},
   "outputs": [],
   "source": [
    "painting_images_path = paths.MELART_IMAGES_PATH"
   ]
  },
  {
   "cell_type": "markdown",
   "metadata": {},
   "source": [
    "#read painting images from /hpi/fs00/share/fg-naumann/seminar-ws22-tagging-captioning-art/artpedia-data/images/\n",
    "paining_images_dict={}\n",
    "painting_images_path = Path(\"/hpi/fs00/share/fg-naumann/datasets/wikidata/slices/images/artpedia/combined\")\n",
    "for paiting_img_path in tqdm(list(painting_images_path.iterdir())):\n",
    "    # if not paiting_img_path.name.endswith('.png') and not paiting_img_path.name.endswith('.PNG'):\n",
    "    #     print(f'not a png file: {paiting_img_path.name}')\n",
    "    #     continue\n",
    "    filename = paiting_img_path.name\n",
    "    filename=urllib.parse.unquote(filename)\n",
    "    name=Path(filename).stem\n",
    "    paining_images_dict[name]=paiting_img_path"
   ]
  },
  {
   "cell_type": "markdown",
   "metadata": {},
   "source": [
    "list(paining_images_dict.items())[:10]"
   ]
  },
  {
   "cell_type": "markdown",
   "metadata": {},
   "source": [
    "\"\"\"\n",
    "    convert from\n",
    "    { \"P135\": \"\", \"P136\": \"religious art\", \"P180\": { \"http://www.wikidata.org/entity/Q942467\": \"Christ Child\", \"http://www.wikidata.org/entity/Q345\": \"Virgin Mary\" }, \"P170\": { \"http://www.wikidata.org/entity/Q15790\": \"Cimabue\" }, \"image_url\": [ \"http://commons.wikimedia.org/wiki/Special:FilePath/Cimabue%20032.jpg\" ], \"visual_sentences\": [ \"It is also stylistically earlier to that work, being painted without pseudo-perspective, and having the angels around the Virgin simply placed one above the other, rather than being spatially arranged.\", \"The throne is similar to the Maest\\u00e0 painted by Cimabue in the Basilica of San Francesco di Assisi (1288\\u20131292).\" ], \"contextual_sentences\": [ \"The Maest\\u00e0 is a painting by the Italian artist   Cimabue, painted around 1280 and housed in Mus\\u00e9e du Louvre of Paris, France.\", \"The work is considered to be from around 1280, thus preceding the Santa Trinita Maest\\u00e0.\", \"This work established a new canon for the Madonna with Child theme, which was subsequently used by other painters, such as Duccio di Buoninsegna in his Rucellai Maest\\u00e0.\" ], \"title\": \"Maest\\u00e0 (Cimabue)\", \"img_url\": \"https://upload.wikimedia.org/wikipedia/commons/8/8c/Cimabue_-_Maest%C3%A0_du_Louvre.jpg\", \"split\": \"train\", \"year\": 1280, \"visual_el_matches\": [ [], [] ], \"contextual_el_matches\": [ [], [], [ { \"qid\": \"http://www.wikidata.org/entity/Q345\", \"text\": \"Madonna\", \"start\": 42, \"end\": 49 } ] ] }    \n",
    "    to \n",
    "    {\"id\": qid+cons, \"sentence\": \"This work established a new canon for the Madonna with Child theme, which was subsequently used by other painters, such as Duccio di Buoninsegna in his Rucellai Maest\\u00e0.\", \"imgPath\": \"20168.jpg\", \"mentions\": \"Madonna\", \"entities\": \"Virgin Mary\", \"answer\": \"Q345\"}\n",
    "    with any visual or contextual sentence that has a corresponding match\n",
    "    \"\"\""
   ]
  },
  {
   "cell_type": "markdown",
   "metadata": {},
   "source": [
    "keys_list=list(paining_images_dict.keys())\n",
    "keys_list.sort()\n",
    "keys_list"
   ]
  },
  {
   "cell_type": "code",
   "execution_count": 42,
   "metadata": {},
   "outputs": [
    {
     "name": "stderr",
     "output_type": "stream",
     "text": [
      "100%|██████████| 1616/1616 [00:00<00:00, 10084.70it/s]\n"
     ]
    }
   ],
   "source": [
    "mention_objects=[]\n",
    "\n",
    "paintings_mentions_index={}\n",
    "\n",
    "for qid,paiting_obj in tqdm(paintings.items()):\n",
    "    img_url=paiting_obj.get(\"img_url\",None)\n",
    "    new_img_file_path=None\n",
    "    if img_url:\n",
    "        img_file_name=img_url.split('/')[-1]\n",
    "        img_path=Path(urllib.parse.unquote(img_file_name))\n",
    "        img_path= painting_images_path / img_path\n",
    "        if img_path.exists():\n",
    "            #img_path=paining_images_dict[img_name]\n",
    "            extention=img_path.suffix\n",
    "            new_img_name=f'{qid}{extention}'\n",
    "            new_img_file_path=mention_images_path / new_img_name\n",
    "            #if symlink already exists, delete it\n",
    "            if new_img_file_path.exists():\n",
    "                new_img_file_path.unlink()\n",
    "            os.symlink(str(img_path), str(new_img_file_path))\n",
    "        else:\n",
    "            print(f'no image in dict for {qid} ({img_file_name})')\n",
    "            continue\n",
    "    else:\n",
    "        print(f'no image for {qid}')\n",
    "        continue\n",
    "    imgPath=new_img_file_path.name if new_img_file_path else ''\n",
    "    counter=0\n",
    "    for field in [\"visual_el_matches\",\"contextual_el_matches\"]:\n",
    "        for i,el_matches in enumerate(paiting_obj[field]):\n",
    "            if len(el_matches)>0:\n",
    "                sentence=paiting_obj[\"visual_sentences\"][i] if field==\"visual_el_matches\" else paiting_obj[\"contextual_sentences\"][i]\n",
    "                for el_match in el_matches:\n",
    "                    id=f'{qid}_{counter}'\n",
    "                    counter+=1\n",
    "                    obj={}\n",
    "                    obj['id']=id\n",
    "                    obj['sentence']=sentence\n",
    "                    obj['imgPath']=imgPath\n",
    "                    obj['mentions']=el_match['text']\n",
    "                    match_qid=el_match['qid'].split('/')[-1]\n",
    "                    candidate_obj=candidate_index[match_qid]\n",
    "                    entity_name=candidate_obj['entity_name']\n",
    "                    obj['entities']=entity_name\n",
    "                    obj['answer']=match_qid\n",
    "                    mention_objects.append(obj)\n",
    "                    painting_mentions=paintings_mentions_index.get(qid,[])\n",
    "                    painting_mentions.append(obj)\n",
    "                    paintings_mentions_index[qid]=painting_mentions"
   ]
  },
  {
   "cell_type": "code",
   "execution_count": 43,
   "metadata": {},
   "outputs": [
    {
     "name": "stdout",
     "output_type": "stream",
     "text": [
      "train: 1188, dev: 328, test: 100\n"
     ]
    }
   ],
   "source": [
    "# split the paintings according to the split property in the painting objects\n",
    "train_paintings = {}\n",
    "dev_paintings = {}\n",
    "test_paintings = {}\n",
    "\n",
    "for qid, painting_obj in paintings.items():\n",
    "    if painting_obj['split'] == 'train':\n",
    "        train_paintings[qid] = painting_obj\n",
    "    elif painting_obj['split'] == 'val':\n",
    "        dev_paintings[qid] = painting_obj\n",
    "    elif painting_obj['split'] == 'test':\n",
    "        test_paintings[qid] = painting_obj\n",
    "\n",
    "# report sizes\n",
    "print(f'train: {len(train_paintings)}, dev: {len(dev_paintings)}, test: {len(test_paintings)}')\n"
   ]
  },
  {
   "cell_type": "code",
   "execution_count": 44,
   "metadata": {},
   "outputs": [],
   "source": [
    "train_file = base_melart_path / 'MELART_train.json'\n",
    "dev_file = base_melart_path / 'MELART_dev.json'\n",
    "test_file = base_melart_path / 'MELART_test.json'"
   ]
  },
  {
   "cell_type": "code",
   "execution_count": 45,
   "metadata": {},
   "outputs": [
    {
     "name": "stdout",
     "output_type": "stream",
     "text": [
      "found 1188 paintings with mentions for train\n",
      "found 328 paintings with mentions for dev\n",
      "found 100 paintings with mentions for test\n"
     ]
    }
   ],
   "source": [
    "# write 3 json files called MELART_train.json, MELART_dev.json, MELART_test.json inside the MELART folder, using the paintings_mentions_index\n",
    "with open(train_file, 'w') as f:\n",
    "    #find all mentions for the train paintings\n",
    "    train_mentions=[]\n",
    "    counter=0\n",
    "    for qid,painting_obj in train_paintings.items():\n",
    "        mentions=paintings_mentions_index.get(qid,[])\n",
    "        if len(mentions)>0:\n",
    "            train_mentions.extend(mentions)\n",
    "            counter+=1\n",
    "    print(f'found {counter} paintings with mentions for train')\n",
    "    json.dump(train_mentions, f)\n",
    "with open(dev_file, 'w') as f:\n",
    "    #find all mentions for the dev paintings\n",
    "    dev_mentions=[]\n",
    "    counter=0\n",
    "    for qid,painting_obj in dev_paintings.items():\n",
    "        mentions=paintings_mentions_index.get(qid,[])\n",
    "        if len(mentions)>0:\n",
    "            dev_mentions.extend(mentions)\n",
    "            counter+=1\n",
    "    print(f'found {counter} paintings with mentions for dev')\n",
    "    json.dump(dev_mentions, f)\n",
    "with open(test_file, 'w') as f:\n",
    "    #find all mentions for the test paintings\n",
    "    test_mentions=[]\n",
    "    counter=0\n",
    "    for qid,painting_obj in test_paintings.items():\n",
    "        mentions=paintings_mentions_index.get(qid,[])\n",
    "        if len(mentions)>0:\n",
    "            test_mentions.extend(mentions)\n",
    "            counter+=1\n",
    "    print(f'found {counter} paintings with mentions for test')\n",
    "    json.dump(test_mentions, f)\n"
   ]
  },
  {
   "cell_type": "code",
   "execution_count": 46,
   "metadata": {},
   "outputs": [],
   "source": [
    "#remove the imgPath from all the mentions in the train, test and dev files\n",
    "for path in [train_file,dev_file,test_file]:\n",
    "    with open(path, 'r') as f:\n",
    "        mentions = json.load(f)\n",
    "    for mention in mentions:\n",
    "        mention[\"imgPath\"]=\"\"\n",
    "    file_name=path.name\n",
    "    new_name=file_name.replace('.json','_no_imgPath.json')\n",
    "    new_path=path.parent / new_name\n",
    "    with open(new_path, 'w') as f:\n",
    "        json.dump(mentions, f)"
   ]
  },
  {
   "cell_type": "code",
   "execution_count": 47,
   "metadata": {},
   "outputs": [
    {
     "name": "stdout",
     "output_type": "stream",
     "text": [
      "train: 4632, dev: 1308, test: 645\n"
     ]
    }
   ],
   "source": [
    "#print sizes\n",
    "print(f'train: {len(train_mentions)}, dev: {len(dev_mentions)}, test: {len(test_mentions)}')"
   ]
  },
  {
   "cell_type": "code",
   "execution_count": 48,
   "metadata": {},
   "outputs": [],
   "source": [
    "#create kb_entity.json removing descriptions from kb_entity_desc.json\n",
    "kb_entity_path=base_melart_path / 'kb_entity.json'\n",
    "kb_entity_desc_path=base_melart_path / 'kb_entity_desc.json'\n"
   ]
  },
  {
   "cell_type": "code",
   "execution_count": 49,
   "metadata": {},
   "outputs": [],
   "source": [
    "kb_entity=[]\n",
    "with open(kb_entity_desc_path, 'r') as f:\n",
    "    kb_entity_desc = json.load(f)\n",
    "for obj in kb_entity_desc:\n",
    "    obj.pop('desc', None)\n",
    "    kb_entity.append(obj)\n",
    "with open(kb_entity_path, 'w') as f:\n",
    "    json.dump(kb_entity, f)"
   ]
  },
  {
   "cell_type": "code",
   "execution_count": 50,
   "metadata": {},
   "outputs": [],
   "source": [
    "#generate the same kb_entity and kb_entity_desc files but with no images\n",
    "kb_entity_no_img=json.load(open(kb_entity_path))\n",
    "kb_entity_desc_no_img=json.load(open(kb_entity_desc_path))\n",
    "for obj in kb_entity_no_img:\n",
    "    obj['image_list']=[]\n",
    "for obj in kb_entity_desc_no_img:\n",
    "    obj['image_list']=[]\n",
    "with open(base_melart_path / 'kb_entity_no_img.json', 'w') as f:\n",
    "    json.dump(kb_entity_no_img, f)\n",
    "with open(base_melart_path / 'kb_entity_desc_no_img.json', 'w') as f:\n",
    "    json.dump(kb_entity_desc_no_img, f)\n"
   ]
  },
  {
   "cell_type": "code",
   "execution_count": null,
   "metadata": {},
   "outputs": [],
   "source": []
  },
  {
   "cell_type": "code",
   "execution_count": null,
   "metadata": {},
   "outputs": [],
   "source": []
  }
 ],
 "metadata": {
  "kernelspec": {
   "display_name": "wikid_filter",
   "language": "python",
   "name": "python3"
  },
  "language_info": {
   "codemirror_mode": {
    "name": "ipython",
    "version": 3
   },
   "file_extension": ".py",
   "mimetype": "text/x-python",
   "name": "python",
   "nbconvert_exporter": "python",
   "pygments_lexer": "ipython3",
   "version": "3.12.4"
  }
 },
 "nbformat": 4,
 "nbformat_minor": 2
}
