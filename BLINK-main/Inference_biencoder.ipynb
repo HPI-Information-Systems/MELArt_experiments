{
 "cells": [
  {
   "cell_type": "code",
   "execution_count": 1,
   "metadata": {},
   "outputs": [],
   "source": [
    "import torch\n",
    "from pathlib import Path\n",
    "from tqdm import tqdm"
   ]
  },
  {
   "cell_type": "code",
   "execution_count": 2,
   "metadata": {},
   "outputs": [],
   "source": [
    "from pytorch_transformers import BertTokenizer, BertForMaskedLM"
   ]
  },
  {
   "cell_type": "code",
   "execution_count": 3,
   "metadata": {},
   "outputs": [],
   "source": [
    "job_id=\"1212693\""
   ]
  },
  {
   "cell_type": "code",
   "execution_count": null,
   "metadata": {},
   "outputs": [],
   "source": [
    "bi_encoder_inference = torch.load(f\"output/melart_blink/{job_id}/top30_candidates/test.t7\")\n",
    "bi_encoder_inference.keys()"
   ]
  },
  {
   "cell_type": "code",
   "execution_count": null,
   "metadata": {},
   "outputs": [],
   "source": [
    "len(bi_encoder_inference[\"indices\"][0])"
   ]
  },
  {
   "cell_type": "code",
   "execution_count": null,
   "metadata": {},
   "outputs": [],
   "source": [
    "max(bi_encoder_inference[\"labels\"].flatten())"
   ]
  },
  {
   "cell_type": "code",
   "execution_count": 7,
   "metadata": {},
   "outputs": [],
   "source": [
    "tokenizer=BertTokenizer.from_pretrained(\"bert-large-uncased\")"
   ]
  },
  {
   "cell_type": "code",
   "execution_count": null,
   "metadata": {},
   "outputs": [],
   "source": [
    "tokenizer.decode(bi_encoder_inference[\"candidate_vecs\"][0][0].tolist(), skip_special_tokens=True)"
   ]
  },
  {
   "cell_type": "code",
   "execution_count": null,
   "metadata": {},
   "outputs": [],
   "source": [
    "for i in range(10):\n",
    "    print(tokenizer.decode(bi_encoder_inference[\"candidate_vecs\"][0][i].tolist(), skip_special_tokens=True))"
   ]
  },
  {
   "cell_type": "code",
   "execution_count": 10,
   "metadata": {},
   "outputs": [],
   "source": [
    "candidates_txt=open(\"/hpi/fs00/home/alejandro.sierra/MELArt_experiments/BLINK-main/data/melart_blink/documents/documents.jsonl\").read().split(\"\\n\")"
   ]
  },
  {
   "cell_type": "code",
   "execution_count": 11,
   "metadata": {},
   "outputs": [],
   "source": [
    "import json"
   ]
  },
  {
   "cell_type": "code",
   "execution_count": null,
   "metadata": {},
   "outputs": [],
   "source": [
    "decoded_results=[]\n",
    "for i,context in tqdm(enumerate(bi_encoder_inference[\"context_vecs\"]),total=len(bi_encoder_inference[\"context_vecs\"]),desc=\"Decoding\"):\n",
    "    sentence=tokenizer.decode(context.tolist(), skip_special_tokens=True)\n",
    "    entities_ranked=[]\n",
    "    for j in range(30):\n",
    "        entities_ranked.append(tokenizer.decode(bi_encoder_inference[\"candidate_vecs\"][i][j].tolist(), skip_special_tokens=True))\n",
    "    indices=bi_encoder_inference[\"indices\"][i]\n",
    "    results=[]\n",
    "    for j,ent in enumerate(entities_ranked):\n",
    "        candidate=candidates_txt[indices[j]]\n",
    "        candidate_obj=json.loads(candidate)\n",
    "        results.append({\"entity\":ent,\"index\":indices[j], \"document_id\":candidate_obj[\"document_id\"]})\n",
    "    res={\"sentence\":sentence,\"entities_ranked\":results, \"gt_rank\":bi_encoder_inference[\"labels\"][i].item()}\n",
    "    decoded_results.append(res)"
   ]
  },
  {
   "cell_type": "code",
   "execution_count": 13,
   "metadata": {},
   "outputs": [],
   "source": [
    "with open(f\"output/melart_blink/{job_id}/top30_candidates/test.json\",\"w\") as f:\n",
    "    json.dump(decoded_results,f,indent=4)"
   ]
  }
 ],
 "metadata": {
  "kernelspec": {
   "display_name": "blink37",
   "language": "python",
   "name": "python3"
  },
  "language_info": {
   "codemirror_mode": {
    "name": "ipython",
    "version": 3
   },
   "file_extension": ".py",
   "mimetype": "text/x-python",
   "name": "python",
   "nbconvert_exporter": "python",
   "pygments_lexer": "ipython3",
   "version": "3.7.16"
  }
 },
 "nbformat": 4,
 "nbformat_minor": 2
}
