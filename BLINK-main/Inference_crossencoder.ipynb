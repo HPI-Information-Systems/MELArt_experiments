{
 "cells": [
  {
   "cell_type": "code",
   "execution_count": 1,
   "metadata": {},
   "outputs": [],
   "source": [
    "import torch\n",
    "from pathlib import Path\n",
    "from tqdm import tqdm\n",
    "import json"
   ]
  },
  {
   "cell_type": "code",
   "execution_count": 2,
   "metadata": {},
   "outputs": [],
   "source": [
    "from pytorch_transformers import BertTokenizer, BertForMaskedLM"
   ]
  },
  {
   "cell_type": "code",
   "execution_count": 3,
   "metadata": {},
   "outputs": [],
   "source": [
    "crossencoder_eval_foldername = \"crossencoder1212693-1214840-eval\""
   ]
  },
  {
   "cell_type": "code",
   "execution_count": null,
   "metadata": {},
   "outputs": [],
   "source": [
    "#extract from the crossencoder_eval_foldername the first job_id\n",
    "bienc_job_id = crossencoder_eval_foldername.split(\"-\")[0].replace(\"crossencoder\", \"\")\n",
    "#bienc_job_id=\"1212693\"\n",
    "bienc_job_id"
   ]
  },
  {
   "cell_type": "code",
   "execution_count": 5,
   "metadata": {},
   "outputs": [],
   "source": [
    "cross_encoder_eval_path = Path(\"models\") / \"BLINK_MODELS\" / crossencoder_eval_foldername"
   ]
  },
  {
   "cell_type": "code",
   "execution_count": null,
   "metadata": {},
   "outputs": [],
   "source": [
    "eval_results=json.load((cross_encoder_eval_path / \"eval_results.json\").open())\n",
    "eval_results.keys()"
   ]
  },
  {
   "cell_type": "code",
   "execution_count": null,
   "metadata": {},
   "outputs": [],
   "source": [
    "for k,v in eval_results.items():\n",
    "    if isinstance(v, list):\n",
    "        print(k, len(v))\n",
    "    else:\n",
    "        print(k, v)"
   ]
  },
  {
   "cell_type": "code",
   "execution_count": null,
   "metadata": {},
   "outputs": [],
   "source": [
    "bi_encoder_inference = torch.load(f\"output/melart_blink/{bienc_job_id}/top30_candidates/test.t7\")\n",
    "bi_encoder_inference.keys()"
   ]
  },
  {
   "cell_type": "code",
   "execution_count": null,
   "metadata": {},
   "outputs": [],
   "source": [
    "len(bi_encoder_inference[\"candidate_vecs\"])"
   ]
  },
  {
   "cell_type": "code",
   "execution_count": null,
   "metadata": {},
   "outputs": [],
   "source": [
    "max(bi_encoder_inference[\"labels\"].flatten())"
   ]
  },
  {
   "cell_type": "code",
   "execution_count": 11,
   "metadata": {},
   "outputs": [],
   "source": [
    "tokenizer=BertTokenizer.from_pretrained(\"bert-large-uncased\")"
   ]
  },
  {
   "cell_type": "code",
   "execution_count": null,
   "metadata": {},
   "outputs": [],
   "source": [
    "tokenizer.decode(bi_encoder_inference[\"candidate_vecs\"][0][0].tolist(), skip_special_tokens=True)"
   ]
  },
  {
   "cell_type": "code",
   "execution_count": null,
   "metadata": {},
   "outputs": [],
   "source": [
    "for i in range(10):\n",
    "    print(tokenizer.decode(bi_encoder_inference[\"candidate_vecs\"][0][i].tolist(), skip_special_tokens=True))"
   ]
  },
  {
   "cell_type": "code",
   "execution_count": 14,
   "metadata": {},
   "outputs": [],
   "source": [
    "candidates_txt=open(\"/hpi/fs00/home/alejandro.sierra/MELArt_experiments/BLINK-main/data/melart_blink/documents/documents.jsonl\").read().split(\"\\n\")"
   ]
  },
  {
   "cell_type": "code",
   "execution_count": null,
   "metadata": {},
   "outputs": [],
   "source": [
    "decoded_results=[]\n",
    "for i,context in tqdm(enumerate(bi_encoder_inference[\"context_vecs\"]),total=len(bi_encoder_inference[\"context_vecs\"]),desc=\"Decoding\"):\n",
    "    sentence=tokenizer.decode(context.tolist(), skip_special_tokens=True)\n",
    "    entities_ranked=[]\n",
    "    for j in range(30):\n",
    "        entities_ranked.append(tokenizer.decode(bi_encoder_inference[\"candidate_vecs\"][i][j].tolist(), skip_special_tokens=True))\n",
    "    indices=bi_encoder_inference[\"indices\"][i]\n",
    "    results=[]\n",
    "    for j,ent in enumerate(entities_ranked):\n",
    "        candidate=candidates_txt[indices[j]]\n",
    "        candidate_obj=json.loads(candidate)\n",
    "        results.append({\"entity\":ent,\"index\":indices[j], \"document_id\":candidate_obj[\"document_id\"]})\n",
    "    sorted_indices=eval_results[\"sorted_indices\"][i]\n",
    "    re_ranked_results=[results[j] for j in sorted_indices]\n",
    "    gt_rank=eval_results[\"ranks\"][i]\n",
    "    res={\"sentence\":sentence,\"entities_ranked\":re_ranked_results, \"gt_rank\":gt_rank}\n",
    "    decoded_results.append(res)"
   ]
  },
  {
   "cell_type": "code",
   "execution_count": 16,
   "metadata": {},
   "outputs": [],
   "source": [
    "with open(cross_encoder_eval_path / \"inference.json\",\"w\") as f:\n",
    "    json.dump(decoded_results,f,indent=4)"
   ]
  },
  {
   "cell_type": "code",
   "execution_count": null,
   "metadata": {},
   "outputs": [],
   "source": []
  }
 ],
 "metadata": {
  "kernelspec": {
   "display_name": "blink37",
   "language": "python",
   "name": "python3"
  },
  "language_info": {
   "codemirror_mode": {
    "name": "ipython",
    "version": 3
   },
   "file_extension": ".py",
   "mimetype": "text/x-python",
   "name": "python",
   "nbconvert_exporter": "python",
   "pygments_lexer": "ipython3",
   "version": "3.7.16"
  }
 },
 "nbformat": 4,
 "nbformat_minor": 2
}
