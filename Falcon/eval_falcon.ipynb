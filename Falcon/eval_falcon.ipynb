{
 "cells": [
  {
   "cell_type": "code",
   "execution_count": 2,
   "metadata": {},
   "outputs": [],
   "source": [
    "import json\n",
    "from pathlib import Path\n",
    "import sys\n",
    "sys.path.append('..')\n",
    "import paths"
   ]
  },
  {
   "cell_type": "code",
   "execution_count": 3,
   "metadata": {},
   "outputs": [],
   "source": [
    "#ground truth file artpedia2wiki_combined.json\n",
    "path_gt_annotations=paths.COMBINED_ANNOTATIONS_PATH\n",
    "path_falcon_annotations=Path(\"falcon_res.json\")"
   ]
  },
  {
   "cell_type": "code",
   "execution_count": 4,
   "metadata": {},
   "outputs": [],
   "source": [
    "gt_annotations=json.load(open(path_gt_annotations))\n",
    "falcon_annotations=json.load(open(path_falcon_annotations))"
   ]
  },
  {
   "cell_type": "code",
   "execution_count": 5,
   "metadata": {},
   "outputs": [
    {
     "data": {
      "text/plain": [
       "100"
      ]
     },
     "execution_count": 5,
     "metadata": {},
     "output_type": "execute_result"
    }
   ],
   "source": [
    "#limit the gt to the test set\n",
    "gt_annotations={k:v for k,v in gt_annotations.items() if v[\"split\"]==\"test\"}\n",
    "len(gt_annotations)"
   ]
  },
  {
   "cell_type": "code",
   "execution_count": 6,
   "metadata": {},
   "outputs": [],
   "source": [
    "def find_key(query, keys):\n",
    "    if query in keys:\n",
    "        return query\n",
    "    #find a key that starts with or ends with query\n",
    "    for key in keys:\n",
    "        if key.startswith(query) or key.endswith(query):\n",
    "            return key\n",
    "    #find the other way around\n",
    "    for key in keys:\n",
    "        if query.startswith(key) or query.endswith(key):\n",
    "            return key\n",
    "    #find a key that contains query\n",
    "    for key in keys:\n",
    "        if query in key:\n",
    "            return key\n",
    "    return None\n"
   ]
  },
  {
   "cell_type": "code",
   "execution_count": 7,
   "metadata": {},
   "outputs": [],
   "source": [
    "def group_falcon_mentions(falcon_mentions):\n",
    "    mentions_groups={}\n",
    "    current_group=[]\n",
    "    current_key=None\n",
    "    for mention in falcon_mentions:\n",
    "        if current_key==mention[\"surface form\"]:\n",
    "            current_group.append(mention)\n",
    "        if current_key!=mention[\"surface form\"]:\n",
    "            if current_key!=None:\n",
    "                mentions_groups[current_key]=current_group\n",
    "            current_group=[]\n",
    "            current_group.append(mention)\n",
    "            current_key=mention[\"surface form\"]\n",
    "        if len(current_group)==50:\n",
    "            mentions_groups[current_key]=current_group\n",
    "            current_group=[]\n",
    "    if len(current_group)>0:\n",
    "        mentions_groups[current_key]=current_group\n",
    "    return mentions_groups"
   ]
  },
  {
   "cell_type": "code",
   "execution_count": 8,
   "metadata": {},
   "outputs": [
    {
     "data": {
      "text/plain": [
       "[None, None, None, None, 1, None, None, None, None, None]"
      ]
     },
     "execution_count": 8,
     "metadata": {},
     "output_type": "execute_result"
    }
   ],
   "source": [
    "ranks=[]\n",
    "el_matches_length=0\n",
    "for qid,gt_annotation in gt_annotations.items():\n",
    "    visual_sentences=gt_annotation[\"visual_sentences\"]\n",
    "    visual_el_matches=gt_annotation[\"visual_el_matches\"]\n",
    "    contextual_sentences=gt_annotation[\"contextual_sentences\"]\n",
    "    contextual_el_matches=gt_annotation[\"contextual_el_matches\"]\n",
    "    #concate the visual and contextual sentences\n",
    "    all_sentences=visual_sentences+contextual_sentences\n",
    "    all_el_matches=visual_el_matches+contextual_el_matches\n",
    "    el_matches_length+=sum(len(el_matches) for el_matches in all_el_matches)\n",
    "    for sentence,el_matches in zip(all_sentences,all_el_matches):\n",
    "        sentence_ranks=[]\n",
    "        #find the sentence in falcon_annotations\n",
    "        falcon_sentence=None\n",
    "        for falcon_sentences in falcon_annotations[qid]:\n",
    "            if falcon_sentences[\"text\"]==sentence:\n",
    "                falcon_sentence=falcon_sentences\n",
    "                break\n",
    "        if falcon_sentence:\n",
    "            falcon_mentions=falcon_sentence[\"falcon\"][\"entities_wikidata\"]\n",
    "            mentions_groups=group_falcon_mentions(falcon_mentions)\n",
    "            for el_match in el_matches:\n",
    "                qid_gt=el_match[\"qid\"]\n",
    "                surface_form_gt=el_match[\"text\"]\n",
    "                key=find_key(surface_form_gt,mentions_groups.keys())\n",
    "                if key:\n",
    "                    falcon_mentions=mentions_groups[key]\n",
    "                    uri_falcon=[falcon_mention[\"URI\"] for falcon_mention in falcon_mentions]\n",
    "                    try:\n",
    "                        rank=uri_falcon.index(qid_gt)+1\n",
    "                        sentence_ranks.append(rank)\n",
    "                    except ValueError:\n",
    "                        sentence_ranks.append(None)\n",
    "                    # for falcon_mention in falcon_mentions:\n",
    "                    #     qid_falcon=falcon_mention[\"URI\"]\n",
    "                    #     if qid_falcon==qid_gt:\n",
    "                    #         try:\n",
    "                    #             rank=falcon_mentions.index(falcon_mention)+1\n",
    "                    #             sentence_ranks.append(rank)\n",
    "                    #         except ValueError:\n",
    "                    #             sentence_ranks.append(None)\n",
    "                else:\n",
    "                    sentence_ranks.append(None)\n",
    "        else:\n",
    "            if el_matches:\n",
    "                for el_match in el_matches:\n",
    "                    sentence_ranks.append(None)\n",
    "                print(\"Sentence not found in falcon_annotations\")\n",
    "        assert len(sentence_ranks)==len(el_matches)\n",
    "        ranks.extend(sentence_ranks)\n",
    "ranks[:10]    "
   ]
  },
  {
   "cell_type": "code",
   "execution_count": 9,
   "metadata": {},
   "outputs": [
    {
     "data": {
      "text/plain": [
       "645"
      ]
     },
     "execution_count": 9,
     "metadata": {},
     "output_type": "execute_result"
    }
   ],
   "source": [
    "len(ranks)"
   ]
  },
  {
   "cell_type": "code",
   "execution_count": 10,
   "metadata": {},
   "outputs": [
    {
     "data": {
      "text/plain": [
       "645"
      ]
     },
     "execution_count": 10,
     "metadata": {},
     "output_type": "execute_result"
    }
   ],
   "source": [
    "el_matches_length"
   ]
  },
  {
   "cell_type": "code",
   "execution_count": 11,
   "metadata": {},
   "outputs": [
    {
     "name": "stdout",
     "output_type": "stream",
     "text": [
      "hits@1=0.09147286821705426\n",
      "hits@3=0.13333333333333333\n",
      "hits@5=0.15503875968992248\n",
      "hits@10=0.16279069767441862\n",
      "hits@20=0.1937984496124031\n"
     ]
    }
   ],
   "source": [
    "k_values=[1,3,5,10,20]\n",
    "for k in k_values:\n",
    "    #compute hits@k\n",
    "    hits_k=sum([1 for rank in ranks if rank and rank<=k])\n",
    "    print(f\"hits@{k}={hits_k/el_matches_length}\")"
   ]
  },
  {
   "cell_type": "code",
   "execution_count": 12,
   "metadata": {},
   "outputs": [
    {
     "data": {
      "text/plain": [
       "520"
      ]
     },
     "execution_count": 12,
     "metadata": {},
     "output_type": "execute_result"
    }
   ],
   "source": [
    "#number of mentions that are not found in falcon_annotations\n",
    "sum([1 for rank in ranks if rank==None])"
   ]
  },
  {
   "cell_type": "code",
   "execution_count": 13,
   "metadata": {},
   "outputs": [
    {
     "data": {
      "text/plain": [
       "0.8062015503875969"
      ]
     },
     "execution_count": 13,
     "metadata": {},
     "output_type": "execute_result"
    }
   ],
   "source": [
    "sum([1 for rank in ranks if rank==None])/el_matches_length"
   ]
  },
  {
   "cell_type": "code",
   "execution_count": null,
   "metadata": {},
   "outputs": [],
   "source": []
  }
 ],
 "metadata": {
  "kernelspec": {
   "display_name": "pytorch",
   "language": "python",
   "name": "python3"
  },
  "language_info": {
   "codemirror_mode": {
    "name": "ipython",
    "version": 3
   },
   "file_extension": ".py",
   "mimetype": "text/x-python",
   "name": "python",
   "nbconvert_exporter": "python",
   "pygments_lexer": "ipython3",
   "version": "3.12.4"
  }
 },
 "nbformat": 4,
 "nbformat_minor": 2
}
