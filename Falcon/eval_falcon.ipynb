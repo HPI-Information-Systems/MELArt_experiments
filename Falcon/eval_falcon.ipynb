{
 "cells": [
  {
   "cell_type": "code",
   "execution_count": 1,
   "metadata": {},
   "outputs": [],
   "source": [
    "import json\n",
    "from pathlib import Path\n",
    "from .. import paths"
   ]
  },
  {
   "cell_type": "code",
   "execution_count": 2,
   "metadata": {},
   "outputs": [],
   "source": [
    "#ground truth file artpedia2wiki_combined.json\n",
    "path_gt_annotations=paths.COMBINED_ANNOTATIONS_PATH\n",
    "path_falcon_annotations=Path(\"falcon_res.json\")"
   ]
  },
  {
   "cell_type": "code",
   "execution_count": 3,
   "metadata": {},
   "outputs": [],
   "source": [
    "gt_annotations=json.load(open(path_gt_annotations))\n",
    "falcon_annotations=json.load(open(path_falcon_annotations))"
   ]
  },
  {
   "cell_type": "code",
   "execution_count": 4,
   "metadata": {},
   "outputs": [
    {
     "data": {
      "text/plain": [
       "100"
      ]
     },
     "execution_count": 4,
     "metadata": {},
     "output_type": "execute_result"
    }
   ],
   "source": [
    "#limit the gt to the test set\n",
    "gt_annotations={k:v for k,v in gt_annotations.items() if v[\"split\"]==\"test\"}\n",
    "len(gt_annotations)"
   ]
  },
  {
   "cell_type": "code",
   "execution_count": 5,
   "metadata": {},
   "outputs": [],
   "source": [
    "def find_key(query, keys):\n",
    "    if query in keys:\n",
    "        return query\n",
    "    #find a key that starts with or ends with query\n",
    "    for key in keys:\n",
    "        if key.startswith(query) or key.endswith(query):\n",
    "            return key\n",
    "    #find the other way around\n",
    "    for key in keys:\n",
    "        if query.startswith(key) or query.endswith(key):\n",
    "            return key\n",
    "    #find a key that contains query\n",
    "    for key in keys:\n",
    "        if query in key:\n",
    "            return key\n",
    "    return None\n"
   ]
  },
  {
   "cell_type": "code",
   "execution_count": 6,
   "metadata": {},
   "outputs": [],
   "source": [
    "def group_falcon_mentions(falcon_mentions):\n",
    "    mentions_groups={}\n",
    "    current_group=[]\n",
    "    current_key=None\n",
    "    for mention in falcon_mentions:\n",
    "        if current_key==mention[\"surface form\"]:\n",
    "            current_group.append(mention)\n",
    "        if current_key!=mention[\"surface form\"]:\n",
    "            if current_key!=None:\n",
    "                mentions_groups[current_key]=current_group\n",
    "            current_group=[]\n",
    "            current_group.append(mention)\n",
    "            current_key=mention[\"surface form\"]\n",
    "        if len(current_group)==50:\n",
    "            mentions_groups[current_key]=current_group\n",
    "            current_group=[]\n",
    "    if len(current_group)>0:\n",
    "        mentions_groups[current_key]=current_group\n",
    "    return mentions_groups"
   ]
  },
  {
   "cell_type": "markdown",
   "metadata": {},
   "source": [
    "ranks=[]\n",
    "for qid,sentences in falcon_annotations.items():\n",
    "    for falcon_sentence in sentences:\n",
    "        falcon_text=falcon_sentence[\"text\"]\n",
    "        falcon_mentions=falcon_sentence[\"falcon\"][\"entities_wikidata\"] # list of dictionaries, each dictionary has this structure { \"URI\": \"http://www.wikidata.org/entity/Q18627384\",\"surface form\": \"Crucifixion\"}\n",
    "        #split the mentions in groups of 50, take the surface form as key\n",
    "        mentions_groups=group_falcon_mentions(falcon_mentions)\n",
    "        #find text in gt_annotations\n",
    "        gt_object=gt_annotations[qid]\n",
    "        #check if the text is in the gt_annotations visual_sentences\n",
    "        gt_mentions=None\n",
    "        visual_sentences=gt_object[\"visual_sentences\"]\n",
    "        try:\n",
    "            falcon_sentence_index=visual_sentences.index(falcon_text)\n",
    "            gt_mentions=gt_object[\"visual_el_matches\"][falcon_sentence_index]\n",
    "        except ValueError:\n",
    "            #try with the contextual sentences\n",
    "            contextual_sentences=gt_object[\"contextual_sentences\"]\n",
    "            try:\n",
    "                falcon_sentence_index=contextual_sentences.index(falcon_text)\n",
    "                gt_mentions=gt_object[\"contextual_el_matches\"][falcon_sentence_index]\n",
    "            except ValueError:\n",
    "                print(\"Sentence not found in visual or contextual sentences\")\n",
    "                break\n",
    "        # print(\"Falcon text: \",falcon_text)\n",
    "        # print(\"Falcon mentions: \",mentions_groups)\n",
    "        # print(\"GT mentions: \",gt_mentions)\n",
    "        for gt_mention in gt_mentions:\n",
    "            qid_gt=gt_mention[\"qid\"] # http....\n",
    "            surface_form_gt=gt_mention[\"text\"]\n",
    "            #find surface form in falcon_mentions\n",
    "            key=find_key(surface_form_gt,mentions_groups.keys())\n",
    "            if key:\n",
    "                falcon_mentions=mentions_groups[key]\n",
    "                for falcon_mention in falcon_mentions:\n",
    "                    qid_falcon=falcon_mention[\"URI\"]\n",
    "                    if qid_falcon==qid_gt:\n",
    "                        try:\n",
    "                            rank=falcon_mentions.index(falcon_mention)+1\n",
    "                            ranks.append(rank)\n",
    "                        except ValueError:\n",
    "                            ranks.append(None)\n",
    "            else:\n",
    "                ranks.append(None)\n",
    "ranks[:10]    "
   ]
  },
  {
   "cell_type": "code",
   "execution_count": 8,
   "metadata": {},
   "outputs": [
    {
     "data": {
      "text/plain": [
       "[None, None, None, None, 1, None, None, None, None, None]"
      ]
     },
     "execution_count": 8,
     "metadata": {},
     "output_type": "execute_result"
    }
   ],
   "source": [
    "ranks=[]\n",
    "el_matches_length=0\n",
    "for qid,gt_annotation in gt_annotations.items():\n",
    "    visual_sentences=gt_annotation[\"visual_sentences\"]\n",
    "    visual_el_matches=gt_annotation[\"visual_el_matches\"]\n",
    "    contextual_sentences=gt_annotation[\"contextual_sentences\"]\n",
    "    contextual_el_matches=gt_annotation[\"contextual_el_matches\"]\n",
    "    #concate the visual and contextual sentences\n",
    "    all_sentences=visual_sentences+contextual_sentences\n",
    "    all_el_matches=visual_el_matches+contextual_el_matches\n",
    "    el_matches_length+=sum(len(el_matches) for el_matches in all_el_matches)\n",
    "    for sentence,el_matches in zip(all_sentences,all_el_matches):\n",
    "        sentence_ranks=[]\n",
    "        #find the sentence in falcon_annotations\n",
    "        falcon_sentence=None\n",
    "        for falcon_sentences in falcon_annotations[qid]:\n",
    "            if falcon_sentences[\"text\"]==sentence:\n",
    "                falcon_sentence=falcon_sentences\n",
    "                break\n",
    "        if falcon_sentence:\n",
    "            falcon_mentions=falcon_sentence[\"falcon\"][\"entities_wikidata\"]\n",
    "            mentions_groups=group_falcon_mentions(falcon_mentions)\n",
    "            for el_match in el_matches:\n",
    "                qid_gt=el_match[\"qid\"]\n",
    "                surface_form_gt=el_match[\"text\"]\n",
    "                key=find_key(surface_form_gt,mentions_groups.keys())\n",
    "                if key:\n",
    "                    falcon_mentions=mentions_groups[key]\n",
    "                    uri_falcon=[falcon_mention[\"URI\"] for falcon_mention in falcon_mentions]\n",
    "                    try:\n",
    "                        rank=uri_falcon.index(qid_gt)+1\n",
    "                        sentence_ranks.append(rank)\n",
    "                    except ValueError:\n",
    "                        sentence_ranks.append(None)\n",
    "                    # for falcon_mention in falcon_mentions:\n",
    "                    #     qid_falcon=falcon_mention[\"URI\"]\n",
    "                    #     if qid_falcon==qid_gt:\n",
    "                    #         try:\n",
    "                    #             rank=falcon_mentions.index(falcon_mention)+1\n",
    "                    #             sentence_ranks.append(rank)\n",
    "                    #         except ValueError:\n",
    "                    #             sentence_ranks.append(None)\n",
    "                else:\n",
    "                    sentence_ranks.append(None)\n",
    "        else:\n",
    "            if el_matches:\n",
    "                for el_match in el_matches:\n",
    "                    sentence_ranks.append(None)\n",
    "                print(\"Sentence not found in falcon_annotations\")\n",
    "        assert len(sentence_ranks)==len(el_matches)\n",
    "        ranks.extend(sentence_ranks)\n",
    "ranks[:10]    "
   ]
  },
  {
   "cell_type": "code",
   "execution_count": 9,
   "metadata": {},
   "outputs": [
    {
     "data": {
      "text/plain": [
       "634"
      ]
     },
     "execution_count": 9,
     "metadata": {},
     "output_type": "execute_result"
    }
   ],
   "source": [
    "len(ranks)"
   ]
  },
  {
   "cell_type": "code",
   "execution_count": 10,
   "metadata": {},
   "outputs": [
    {
     "data": {
      "text/plain": [
       "634"
      ]
     },
     "execution_count": 10,
     "metadata": {},
     "output_type": "execute_result"
    }
   ],
   "source": [
    "el_matches_length"
   ]
  },
  {
   "cell_type": "code",
   "execution_count": 12,
   "metadata": {},
   "outputs": [
    {
     "name": "stdout",
     "output_type": "stream",
     "text": [
      "hits@1=0.09305993690851735\n",
      "hits@3=0.13564668769716087\n",
      "hits@5=0.15772870662460567\n",
      "hits@10=0.16561514195583596\n",
      "hits@20=0.19558359621451105\n"
     ]
    }
   ],
   "source": [
    "k_values=[1,3,5,10,20]\n",
    "for k in k_values:\n",
    "    #compute hits@k\n",
    "    hits_k=sum([1 for rank in ranks if rank and rank<=k])\n",
    "    print(f\"hits@{k}={hits_k/el_matches_length}\")"
   ]
  },
  {
   "cell_type": "code",
   "execution_count": 13,
   "metadata": {},
   "outputs": [
    {
     "data": {
      "text/plain": [
       "510"
      ]
     },
     "execution_count": 13,
     "metadata": {},
     "output_type": "execute_result"
    }
   ],
   "source": [
    "#number of mentions that are not found in falcon_annotations\n",
    "sum([1 for rank in ranks if rank==None])"
   ]
  },
  {
   "cell_type": "code",
   "execution_count": 14,
   "metadata": {},
   "outputs": [
    {
     "data": {
      "text/plain": [
       "0.804416403785489"
      ]
     },
     "execution_count": 14,
     "metadata": {},
     "output_type": "execute_result"
    }
   ],
   "source": [
    "sum([1 for rank in ranks if rank==None])/el_matches_length"
   ]
  },
  {
   "cell_type": "code",
   "execution_count": null,
   "metadata": {},
   "outputs": [],
   "source": []
  }
 ],
 "metadata": {
  "kernelspec": {
   "display_name": "pytorch",
   "language": "python",
   "name": "python3"
  },
  "language_info": {
   "codemirror_mode": {
    "name": "ipython",
    "version": 3
   },
   "file_extension": ".py",
   "mimetype": "text/x-python",
   "name": "python",
   "nbconvert_exporter": "python",
   "pygments_lexer": "ipython3",
   "version": "3.8.8"
  }
 },
 "nbformat": 4,
 "nbformat_minor": 2
}
