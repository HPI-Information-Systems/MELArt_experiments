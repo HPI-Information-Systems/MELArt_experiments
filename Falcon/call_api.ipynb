{
 "cells": [
  {
   "cell_type": "code",
   "execution_count": 6,
   "metadata": {},
   "outputs": [],
   "source": [
    "import requests\n",
    "import json\n",
    "from tqdm import tqdm"
   ]
  },
  {
   "cell_type": "code",
   "execution_count": 7,
   "metadata": {},
   "outputs": [],
   "source": [
    "\"\"\" simulate curl --header \"Content-Type: application/json\" \\\n",
    "  --request POST \\\n",
    "  --data '{\"text\":\"Who painted The Storm on the Sea of Galilee?\"}' \\\n",
    "  'https://labs.tib.eu/falcon/falcon2/api?mode=long&k=50'\n",
    "\"\"\"\n",
    "#use a function receiving the text\n",
    "def get_falcon(text):\n",
    "    #url of the api\n",
    "    url = 'https://labs.tib.eu/falcon/falcon2/api?mode=long&k=50'\n",
    "    #data to be sent\n",
    "    data = {'text': text}\n",
    "    #headers\n",
    "    headers = {'Content-Type': 'application/json'}\n",
    "    #send the request\n",
    "    response = requests.post(url, headers=headers, data=json.dumps(data))\n",
    "    #return the response\n",
    "    return response.json()"
   ]
  },
  {
   "cell_type": "code",
   "execution_count": 8,
   "metadata": {},
   "outputs": [
    {
     "data": {
      "text/plain": [
       "{'entities_wikidata': [{'URI': 'http://www.wikidata.org/entity/Q2246489',\n",
       "   'surface form': 'Storm on the Sea of Galilee'},\n",
       "  {'URI': 'http://www.wikidata.org/entity/Q2246489',\n",
       "   'surface form': 'Storm on the Sea of Galilee'},\n",
       "  {'URI': 'http://www.wikidata.org/entity/Q21712166',\n",
       "   'surface form': 'Storm on the Sea of Galilee'},\n",
       "  {'URI': 'http://www.wikidata.org/entity/Q27898358',\n",
       "   'surface form': 'Storm on the Sea of Galilee'},\n",
       "  {'URI': 'http://www.wikidata.org/entity/Q20355284',\n",
       "   'surface form': 'Storm on the Sea of Galilee'},\n",
       "  {'URI': 'http://www.wikidata.org/entity/Q18748474',\n",
       "   'surface form': 'Storm on the Sea of Galilee'},\n",
       "  {'URI': 'http://www.wikidata.org/entity/Q20808844',\n",
       "   'surface form': 'Storm on the Sea of Galilee'},\n",
       "  {'URI': 'http://www.wikidata.org/entity/Q28778027',\n",
       "   'surface form': 'Storm on the Sea of Galilee'},\n",
       "  {'URI': 'http://www.wikidata.org/entity/Q17321007',\n",
       "   'surface form': 'Storm on the Sea of Galilee'},\n",
       "  {'URI': 'http://www.wikidata.org/entity/Q19911431',\n",
       "   'surface form': 'Storm on the Sea of Galilee'},\n",
       "  {'URI': 'http://www.wikidata.org/entity/Q7440096',\n",
       "   'surface form': 'Storm on the Sea of Galilee'},\n",
       "  {'URI': 'http://www.wikidata.org/entity/Q3224982',\n",
       "   'surface form': 'Storm on the Sea of Galilee'},\n",
       "  {'URI': 'http://www.wikidata.org/entity/Q30295493',\n",
       "   'surface form': 'Storm on the Sea of Galilee'},\n",
       "  {'URI': 'http://www.wikidata.org/entity/Q41111062',\n",
       "   'surface form': 'Storm on the Sea of Galilee'},\n",
       "  {'URI': 'http://www.wikidata.org/entity/Q51413385',\n",
       "   'surface form': 'Storm on the Sea of Galilee'},\n",
       "  {'URI': 'http://www.wikidata.org/entity/Q48420360',\n",
       "   'surface form': 'Storm on the Sea of Galilee'},\n",
       "  {'URI': 'http://www.wikidata.org/entity/Q34678326',\n",
       "   'surface form': 'Storm on the Sea of Galilee'},\n",
       "  {'URI': 'http://www.wikidata.org/entity/Q52704919',\n",
       "   'surface form': 'Storm on the Sea of Galilee'},\n",
       "  {'URI': 'http://www.wikidata.org/entity/Q35809281',\n",
       "   'surface form': 'Storm on the Sea of Galilee'},\n",
       "  {'URI': 'http://www.wikidata.org/entity/Q51143264',\n",
       "   'surface form': 'Storm on the Sea of Galilee'}],\n",
       " 'relations_wikidata': [{'URI': 'http://www.wikidata.org/entity/P7937',\n",
       "   'surface form': 'painted'},\n",
       "  {'URI': 'http://www.wikidata.org/entity/P170', 'surface form': 'painted'},\n",
       "  {'URI': 'http://www.wikidata.org/entity/P123', 'surface form': 'painted'},\n",
       "  {'URI': 'http://www.wikidata.org/entity/P1071', 'surface form': 'painted'},\n",
       "  {'URI': 'http://www.wikidata.org/entity/P872', 'surface form': 'painted'},\n",
       "  {'URI': 'http://www.wikidata.org/entity/P7903', 'surface form': 'painted'},\n",
       "  {'URI': 'http://www.wikidata.org/entity/P5493', 'surface form': 'painted'},\n",
       "  {'URI': 'http://www.wikidata.org/entity/P1932', 'surface form': 'painted'}]}"
      ]
     },
     "execution_count": 8,
     "metadata": {},
     "output_type": "execute_result"
    }
   ],
   "source": [
    "res=get_falcon(\"Who painted The Storm on the Sea of Galilee?\")\n",
    "res"
   ]
  },
  {
   "cell_type": "code",
   "execution_count": 9,
   "metadata": {},
   "outputs": [],
   "source": [
    "test_set=json.loads(open('curated_annotations.json').read())"
   ]
  },
  {
   "cell_type": "code",
   "execution_count": 10,
   "metadata": {},
   "outputs": [
    {
     "name": "stderr",
     "output_type": "stream",
     "text": [
      "  1%|          | 1/100 [01:13<2:02:05, 74.00s/it]"
     ]
    },
    {
     "name": "stdout",
     "output_type": "stream",
     "text": [
      "Error with: John points to Christ, whilst Jerome has thrown down his cardinal's cap at the foot of the cross, symbolising his rejection of earthly honours\n",
      "Giorgio Vasari saw all three paintings in their original positions over the church's side altars, but after the church was destroyed in the 1529 Siege of Florence all three paintings were moved to the order's new monastery of San Giovanni Battista della Calza near the city's Porta Romana.\n",
      "Error with: The painting depicts Bonaparte leading his army through the Alps on a mule, a journey Napoleon and his army of soldiers made in the spring of 1800, in an attempt to surprise the Austrian army in Italy.\n",
      "Error with: Bonaparte Crossing the Alps (also called Napoleon Crossing the Alps, despite the existence of another, more well-known painting with that name) is an 1848–1850 oil-on-canvas portrait of Napoleon Bonaparte, by French artist Paul Delaroche.\n"
     ]
    },
    {
     "name": "stderr",
     "output_type": "stream",
     "text": [
      "  3%|▎         | 3/100 [08:33<4:51:13, 180.14s/it]"
     ]
    },
    {
     "name": "stdout",
     "output_type": "stream",
     "text": [
      "Error with: Saint Jerome in Meditation (c. 1605) is a painting by the Italian Baroque master Caravaggio, now in the Museum of Montserrat, next to the Monastery of Santa Maria, Montserrat (Museu del Monestir de Santa Maria).Saint Jerome, hermit, Father of the Church, and responsible for the translation of the Bible into Latin, (the Vulgate Bible) was a popular figure in Caravaggio's time, and the artist painted him at least eight times (only three survive).\n"
     ]
    },
    {
     "name": "stderr",
     "output_type": "stream",
     "text": [
      "  5%|▌         | 5/100 [11:10<3:03:26, 115.86s/it]"
     ]
    },
    {
     "name": "stdout",
     "output_type": "stream",
     "text": [
      "Error with: Completed between 1880 and 1883, the work shows a seething, huddled mass attending the annual religious procession (crucession) carrying the famous icon Our Lady of Kursk from its home at the Korennaya Monastery to the nearby city of Kursk in western Russia.\n"
     ]
    },
    {
     "name": "stderr",
     "output_type": "stream",
     "text": [
      "  6%|▌         | 6/100 [11:45<2:18:38, 88.49s/it] "
     ]
    },
    {
     "name": "stdout",
     "output_type": "stream",
     "text": [
      "Error with: The painting depicts a bedroom where an Annunciation takes place following an unusual scheme: the angel is on the right, holding a white lily, and has got in from a loggia which opens to a garden  (the hortus conclusus).\n",
      "Error with: His right arm is pointing at the Father God who has shown in a cloud and is blessing Mary from inside the loggia.\n",
      "Error with: The Recanati Annunciation (Italian: Annunciazione di Recanati)  is a painting by the Italian Renaissance painter Lorenzo Lotto, executed around 1534 and housed in the Civic Museum of Villa Colloredo Mels, Recanati, Italy.\n"
     ]
    },
    {
     "name": "stderr",
     "output_type": "stream",
     "text": [
      "  8%|▊         | 8/100 [17:57<3:13:42, 126.33s/it]"
     ]
    },
    {
     "name": "stdout",
     "output_type": "stream",
     "text": [
      "Error with: This was connected with a miracle in 1370-82 depicted by Vittorio Carpaccio, Gentile Bellini and other artists - when accidentally dropped into a canal during a congested procession it did not sink but hovered over the water, evading others trying to help, until an earlier Andrea Vendramin dived in and retrieved it.\n"
     ]
    },
    {
     "name": "stderr",
     "output_type": "stream",
     "text": [
      " 13%|█▎        | 13/100 [24:59<2:09:14, 89.13s/it] "
     ]
    },
    {
     "name": "stdout",
     "output_type": "stream",
     "text": [
      "Error with: The edifice, symbolizing the analogy between Mary and the Catholic church (a subject later abolished by the Protestant Reformation), is organized in a complicated and original fashion: the ambulatory and the  column galleries are Romanesque, the ogival windows are Gothic, the vaults and the shell-shaped niches are  in Renaissance style.\n"
     ]
    },
    {
     "name": "stderr",
     "output_type": "stream",
     "text": [
      " 14%|█▍        | 14/100 [27:25<2:32:22, 106.31s/it]"
     ]
    },
    {
     "name": "stdout",
     "output_type": "stream",
     "text": [
      "Error with: Some of the figures were said to be modelled on members of the community, but Caravaggio has also relied on his memory—the whole design is based on an engraving after Giulio Romano and his Jesus is a reversed image of the Christ who called Matthew to join him in The Calling of Saint Matthew.\n"
     ]
    },
    {
     "name": "stderr",
     "output_type": "stream",
     "text": [
      " 15%|█▌        | 15/100 [29:33<2:39:49, 112.82s/it]"
     ]
    },
    {
     "name": "stdout",
     "output_type": "stream",
     "text": [
      "Error with: In 1969 the Church, persuaded by the overwhelming opinion of historians that Catherine had probably never existed, removed her from the calendar of saints; by 2002, while the majority of historians had not changed their minds, the Church had, and she was reinstated.\n",
      "Error with: His room overlooked the Seine, and it is from this vantage point that it is painted.\n"
     ]
    },
    {
     "name": "stderr",
     "output_type": "stream",
     "text": [
      " 16%|█▌        | 16/100 [31:33<2:41:05, 115.06s/it]"
     ]
    },
    {
     "name": "stdout",
     "output_type": "stream",
     "text": [
      "Error with: The Flagellation is particularly admired for the realistic rendering of the hall in which the flagellation scene is situated in relation to the size of the figures and for the geometrical order of the composition.\n"
     ]
    },
    {
     "name": "stderr",
     "output_type": "stream",
     "text": [
      " 19%|█▉        | 19/100 [35:23<2:00:28, 89.24s/it] "
     ]
    },
    {
     "name": "stdout",
     "output_type": "stream",
     "text": [
      "Error with: She is discovered on the shore by the god Bacchus, leading a procession of revelers in a chariot drawn by two cheetahs (these were probably modelled on those in the Duke's menagerie and were tigers in Ovid's original text).\n"
     ]
    },
    {
     "name": "stderr",
     "output_type": "stream",
     "text": [
      " 20%|██        | 20/100 [41:51<3:58:17, 178.71s/it]"
     ]
    },
    {
     "name": "stdout",
     "output_type": "stream",
     "text": [
      "Error with: The follower of Bacchus who struggles with a snake is sometimes falsely associated with the antique sculpture of Laocoön and His Sons who had been killed by snakes.\n"
     ]
    },
    {
     "name": "stderr",
     "output_type": "stream",
     "text": [
      " 23%|██▎       | 23/100 [44:36<2:11:18, 102.32s/it]"
     ]
    },
    {
     "name": "stdout",
     "output_type": "stream",
     "text": [
      "Error with: In the centre is the Madonna enthroned with the Child, portrayed according to the Byzantine iconography of the Victorious Madonna and surrounded by chanting angels.\n"
     ]
    },
    {
     "name": "stderr",
     "output_type": "stream",
     "text": [
      " 24%|██▍       | 24/100 [45:27<1:50:15, 87.05s/it] "
     ]
    },
    {
     "name": "stdout",
     "output_type": "stream",
     "text": [
      "Error with: Unusually for Manet's portraits, which typically have an even light, Morisot is lit from one side, so that she is brightly illuminated on her right side and the left is in deep shadow.\n"
     ]
    },
    {
     "name": "stderr",
     "output_type": "stream",
     "text": [
      " 28%|██▊       | 28/100 [49:52<1:12:23, 60.32s/it]"
     ]
    },
    {
     "name": "stdout",
     "output_type": "stream",
     "text": [
      "Error with: It portrays a young woman, formerly identified as Sophonisba or Artemisia, or a generic queen due to her jewels and rich garments, receiving a cup from a maiden.\n",
      "Error with: Judith at the Banquet of Holofernes (also known as Artemisia Receiving Mausolus' Ashes and Sophonisba Receiving the Poisoned Cup) is a painting by the Dutch master Rembrandt.\n"
     ]
    },
    {
     "name": "stderr",
     "output_type": "stream",
     "text": [
      " 29%|██▉       | 29/100 [52:16<1:40:53, 85.26s/it]"
     ]
    },
    {
     "name": "stdout",
     "output_type": "stream",
     "text": [
      "Error with: In this story, Socrates has been convicted of corrupting the youth of Athens and introducing strange gods, and has been sentenced to die by drinking poison hemlock.\n"
     ]
    },
    {
     "name": "stderr",
     "output_type": "stream",
     "text": [
      " 30%|███       | 30/100 [55:19<2:13:52, 114.75s/it]"
     ]
    },
    {
     "name": "stdout",
     "output_type": "stream",
     "text": [
      "Error with: The Phaedo depicts the death of Socrates and is also Plato's fourth and last dialogue to detail the philosopher's final days, which is also detailed in Euthyphro, Apology, and Crito.\n"
     ]
    },
    {
     "name": "stderr",
     "output_type": "stream",
     "text": [
      " 34%|███▍      | 34/100 [58:45<1:15:27, 68.60s/it] "
     ]
    },
    {
     "name": "stdout",
     "output_type": "stream",
     "text": [
      "Error with: The van der Paele panel is widely considered one of van Eyck's most fully realised and ambitious works, and has been described as a \"masterpiece of masterpieces\".\n",
      "Error with: It is in its original oak frame, which contains several Latin inscriptions, including van Eyck's signature, the date of completion, the donor's name, and texts related to St. George and St. Donatian.\n"
     ]
    },
    {
     "name": "stderr",
     "output_type": "stream",
     "text": [
      " 36%|███▌      | 36/100 [1:05:08<2:01:45, 114.15s/it]"
     ]
    },
    {
     "name": "stdout",
     "output_type": "stream",
     "text": [
      "Error with: It was produced between 1562 and 1566 as part of a series of works on Saint Mark for the Sala Capitolare of the Scuola Grande di San Marco - the others were Miracle of the Slave and Finding of the body of St Mark.\n"
     ]
    },
    {
     "name": "stderr",
     "output_type": "stream",
     "text": [
      " 37%|███▋      | 37/100 [1:06:48<1:55:39, 110.16s/it]"
     ]
    },
    {
     "name": "stdout",
     "output_type": "stream",
     "text": [
      "Error with: The painting shows the Virgin Enthroned holding the Child in the center, with two flying angels who are holding, above her, an elaborated royal crown made of gold, pearls and gems; this was a Flemish art scheme already widespread in the German area at the time.\n",
      "Error with: Mary is depicted in the act of distributing rose garlands to two groups of kneeling worshippers, portrayed on two symmetrical rows at the sides.\n",
      "Error with: The two rows are headed, on the left, by Pope Julius II (who had been approved the German brotherhood with a bull in 1474), crowned by the Child and followed by a procession of religious figures; and, on the right, by the German emperor Frederick III (portrayed with the face of his son and patron of Dürer, Maximilian I), crowned by Mary and followed by a lay procession.\n",
      "Error with: The pope and the emperor, considered at the time the supreme authorities of the Catholic world, have previously deposed the papal tiara and the imperial crown, and are now kneeling to receive the Madonna's blessing.\n"
     ]
    },
    {
     "name": "stderr",
     "output_type": "stream",
     "text": [
      " 39%|███▉      | 39/100 [1:13:39<2:27:13, 144.81s/it]"
     ]
    },
    {
     "name": "stdout",
     "output_type": "stream",
     "text": [
      "Error with: Comparison of the floor-tiles with other elements shows that the figures are only about six feet from the columned loggia screen, and that Rolin might have to squeeze himself through the opening to get out that way.\n"
     ]
    },
    {
     "name": "stderr",
     "output_type": "stream",
     "text": [
      " 40%|████      | 40/100 [1:19:28<3:26:05, 206.10s/it]"
     ]
    },
    {
     "name": "stdout",
     "output_type": "stream",
     "text": [
      "Error with: It is kept in the Musée du Louvre, Paris, and was commissioned by Nicolas Rolin, aged 60, chancellor of the Duchy of Burgundy, whose votive portrait takes up the left side of the picture, for his parish church, Notre-Dame-du-Chastel in Autun, where it remained until the church burnt down in 1793.\n",
      "Error with: It shows Saint Francis of Assisi (the Cardinal's name-saint) at the moment of receiving the signs of the Stigmata, the wounds left in Christ's body by the Crucifixion.\n",
      "Error with: In 1224 Francis retired to the wilderness with a small number of his followers  to contemplate God.\n",
      "Error with: Brother Leo saw a six-winged seraph (one of the higher Orders of angels) come down to Francis in answer to the saint's prayer that he might know both Christ's suffering and His love:\n",
      "\n",
      "All of a sudden there was a dazzling light.\n"
     ]
    },
    {
     "name": "stderr",
     "output_type": "stream",
     "text": [
      " 42%|████▏     | 42/100 [1:25:39<2:56:05, 182.16s/it]"
     ]
    },
    {
     "name": "stdout",
     "output_type": "stream",
     "text": [
      "Error with: The immediate inspiration for Caravaggio was a work by a follower of Giorgione, c.1510, but Caravaggio captures the drama more effectively by having the head dangling from David's hand and dripping blood, rather than resting on a ledge.\n",
      "Error with: The sword in David's hand carries an abbreviated inscription H-AS OS; this has been interpreted as an abbreviation of the Latin phrase humilitas occidit superbiam (\"humility kills pride\").David is perturbed, \"his expression mingling sadness and compassion.\"\n",
      "Error with: No independent portraits of Cecco are known, making the identification impossible to verify, but \"[a] sexual intimacy between David/model and Goliath/painter seems an inescapable conclusion, however, given that Caravaggio made David's sword appear to project upward, suggestively, between his legs and at an angle that echoes the diagonal linking of the protagonist's gaze to his victim.\"\n",
      "Error with: This bond is further complicated by the fact that Caravaggio has depicted himself as Goliath, while the model for David is il suo Caravaggino (\"his own little Caravaggio\").\n",
      "Error with: This most plausibly refers to Cecco del Caravaggio, the artist's studio assistant in Rome some years previously, recorded as the boy \"who lay with him.\"\n",
      "Error with: The masterpiece in Rome is a \"twin\" of a second artwork on the same subject, David and Goliath, as reported in the inventory of the Galleria Borghese dated 1693, where is found that one was located in the first room, and the other in the fourth room.\n",
      "Error with: The biographical interest of the painting adds another layer of meaning to an already complex work, David and Goliath standing for Christ and Satan and the triumph of good over evil in orthodox Christian iconography of the period, and also as the cold-hearted beloved who \"kills\" and his lover according to contemporary literary conceit.\n",
      "Error with: If the painting was a gift to Cardinal Borghese, the papal official with the power to grant Caravaggio a pardon for murder, it can also be interpreted as a personal plea for mercy. \"\n"
     ]
    },
    {
     "name": "stderr",
     "output_type": "stream",
     "text": [
      " 43%|████▎     | 43/100 [1:37:20<5:20:58, 337.88s/it]"
     ]
    },
    {
     "name": "stdout",
     "output_type": "stream",
     "text": [
      "Error with: David with the Head of Goliath [thus] demonstrates Caravaggio's gift for distilling his own experiences into an original sacred imagery that transcends the personal to become a searing statement of the human condition.\"\n",
      "Error with: In the Gospel of Mark (16:12) Female Jesus is said to have appeared to them \"in another form\", which may be why he is depicted beardless here, as opposed to the bearded Christ in Calling of St Matthew, where a group of seated money counters is interrupted by the recruiting Christ.\n"
     ]
    },
    {
     "name": "stderr",
     "output_type": "stream",
     "text": [
      " 45%|████▌     | 45/100 [1:40:03<3:07:22, 204.41s/it]"
     ]
    },
    {
     "name": "stdout",
     "output_type": "stream",
     "text": [
      "Error with: The eye in the storm gathering on the right of Saint George is lined up with his spear showing there has been divine intervention.\n"
     ]
    },
    {
     "name": "stderr",
     "output_type": "stream",
     "text": [
      " 48%|████▊     | 48/100 [1:44:55<1:59:21, 137.72s/it]"
     ]
    },
    {
     "name": "stdout",
     "output_type": "stream",
     "text": [
      "Error with: The work depicts Jesus carrying the cross above a dark background, surrounded by numerous heads, most of which are characterized with grotesque faces.\n"
     ]
    },
    {
     "name": "stderr",
     "output_type": "stream",
     "text": [
      " 50%|█████     | 50/100 [1:50:26<2:07:45, 153.31s/it]"
     ]
    },
    {
     "name": "stdout",
     "output_type": "stream",
     "text": [
      "Error with: The Battle of Alexander at Issus is painted on a limewood panel measuring 158.4 cm × 120.3 cm (62.4 in × 47.4 in), and portrays the moment of Alexander the Great's victory.\n",
      "Error with: Netherlandish Proverbs (Dutch: Nederlandse Spreekwoorden; also called Flemish Proverbs, The Blue Cloak or The Topsy Turvy World) is a 1559 oil-on-oak-panel painting by Pieter Bruegel the Elder that depicts a scene in which humans and, to a lesser extent, animals and objects, offer literal illustrations of Dutch language proverbs and idioms.\n"
     ]
    },
    {
     "name": "stderr",
     "output_type": "stream",
     "text": [
      " 55%|█████▌    | 55/100 [1:56:42<1:11:54, 95.87s/it] "
     ]
    },
    {
     "name": "stdout",
     "output_type": "stream",
     "text": [
      "Error with: The work was in the collection of Giuseppe Cesari, the Cavaliere d'Arpino, seized by Cardinal Scipione Borghese in 1607, and may therefore date to the period when Caravaggio worked for d'Arpino \"painting flowers and fruits\" in his workshop; but it may date from a slightly later period when Caravaggio and Minniti had left Cavalier d'Arpino's workshop (January 1594) to make their own way selling paintings through the dealer Costantino.\n"
     ]
    },
    {
     "name": "stderr",
     "output_type": "stream",
     "text": [
      " 58%|█████▊    | 58/100 [2:03:20<1:27:00, 124.31s/it]"
     ]
    },
    {
     "name": "stdout",
     "output_type": "stream",
     "text": [
      "Error with: They are shown in a variety of poses, ranging from gazing in awe, to kneeling and reaching for the skies, \"monumental figures ... massed in collective movement, united with shadow, heroic gestures are given a silhouette of unprecedented boldness\".In the centre zone, the Virgin Mary stands on clouds, wrapped in a red robe and blue mantle, and also makes a gesture of astonishment.\n",
      "Error with: It depicts Christ standing on a double basement, keeping the Cross.\n",
      "Error with: Blood rays spring up from Christ's wounds, ending in the Holy Chalice and turning themselves into  the sacramental bread.\n"
     ]
    },
    {
     "name": "stderr",
     "output_type": "stream",
     "text": [
      " 59%|█████▉    | 59/100 [2:05:48<1:29:55, 131.61s/it]"
     ]
    },
    {
     "name": "stdout",
     "output_type": "stream",
     "text": [
      "Error with: A fourth panel on the north wall (the others are on the east wall) shows Christ lowering himself from the cross to hold the hands of St Bernard.\n"
     ]
    },
    {
     "name": "stderr",
     "output_type": "stream",
     "text": [
      " 60%|██████    | 60/100 [2:08:26<1:32:56, 139.41s/it]"
     ]
    },
    {
     "name": "stdout",
     "output_type": "stream",
     "text": [
      "Error with: Not to be confused with Crucifixion (Perugino and Signorelli).The Pazzi Crucifixion is a circa 1495 fresco of the Crucifixion of Christ by Perugino in the chapter house of the Cistercian monastery of Santa Maria Maddalena dei Pazzi in Florence.\n",
      "Error with: Dürer shows himself before an open window with a flat plane with a lake before distant snow-capped mountains, the landscape perhaps representing either the memory of his recent travels abroad or his inner mental state.\n",
      "Error with: His fingers are crossed, hidden inside silk gloves, an unusual pose for Dürer's early career; he always paid close attention in detailing the hands of his sitters who are usually showing holding an object; examples include a pillow, rosary, sheet of paper and flower.\n",
      "Error with: Dürer presents himself as almost seductive, with a rakish patterned hat placed over long, almost girlishly curled blond locks of hair under a draped pointed hat with a tassel.\n",
      "Error with: In this work, executed in oil on wood panel in 1498, Dürer haughtily elevates himself to the social position he believed suited to an artist of his ability.\n",
      "Error with: Dürer's presence dominates the pictorial space, from his hat which almost reaches the top of the canvas to his arm positioned on the lower ledge, where he rests his fingers enclosed in fine rich gloves.\n"
     ]
    },
    {
     "name": "stderr",
     "output_type": "stream",
     "text": [
      " 61%|██████    | 61/100 [2:15:02<2:20:32, 216.22s/it]"
     ]
    },
    {
     "name": "stdout",
     "output_type": "stream",
     "text": [
      "Error with: [ The mystery in Full Daylight] -- 'certainly questionable on the significance of the scene painted by Delacroix'.In Delacroix's composition, a caravan procession--a convoy of servants, flocks, Jacob's sons and wives--appears then fades, only to reappear briefly at the bend of a ravine.\n",
      "Error with: Thus Delacroix depicted a pile of clothes left in the foreground by Jacob, as he has still his bulky animal skin, symbol of animal human nature and the lower instincts, and wears a lion skin across his shoulder: one of whose paws can be seen flying in the air near his right calf.\n",
      "Error with: In an invitation sent out by Delacroix in July 1861 to inspect the Chapel of the Holy Angels in the church of Saint-Sulpice he wrote : \"Jacob is travelling with the flocks and other gifts he is taking to his brother Esau in the hope of appeasing his anger.\n",
      "Error with: Paul Claudel wrote of the femininity of the angel attacked by a vigorous young man: 'these two bodies becoming aware of each other'\n",
      "Delacroix's house close to Paris  on the edge of the Sénart forest was his retreat during the work and conception of Jacob.\n"
     ]
    },
    {
     "name": "stderr",
     "output_type": "stream",
     "text": [
      " 62%|██████▏   | 62/100 [2:21:59<2:55:14, 276.71s/it]"
     ]
    },
    {
     "name": "stdout",
     "output_type": "stream",
     "text": [
      "Error with: On 5 October 1850 he  reveals in a letter to  a friend, the painter Constant Dutilleux his subjects, and mentions Jacob wrestling with the angel, Heliodorus, and  the ceiling,  which will have as its subject  the Archangel Michael  slaying the Demon.\n"
     ]
    },
    {
     "name": "stderr",
     "output_type": "stream",
     "text": [
      " 64%|██████▍   | 64/100 [2:27:05<2:09:52, 216.47s/it]"
     ]
    },
    {
     "name": "stdout",
     "output_type": "stream",
     "text": [
      "Error with: These court portraits culminates in his 1656 Las Meninas, which includes an older maternal Mariana, and center-stage her daughter, the Infanta Margarita Teresa.\n"
     ]
    },
    {
     "name": "stderr",
     "output_type": "stream",
     "text": [
      " 65%|██████▌   | 65/100 [2:28:58<1:48:16, 185.61s/it]"
     ]
    },
    {
     "name": "stdout",
     "output_type": "stream",
     "text": [
      "Error with: On the background of a rocky landscape, resembling that of the London Adoration of the Magi, the picture represents the three archangels: Michael on the left, Raphael in the centre, and Gabriel holding a lily, together with a young Tobias, son of Tobit.\n"
     ]
    },
    {
     "name": "stderr",
     "output_type": "stream",
     "text": [
      " 67%|██████▋   | 67/100 [2:30:52<1:04:00, 116.38s/it]"
     ]
    },
    {
     "name": "stdout",
     "output_type": "stream",
     "text": [
      "Error with: Laura, his father's sister, is depicted in a dress which symbolizes mourning for her father, who had recently died and appears in the framed portrait behind her.\n",
      "Error with: While finishing his artistic training in Italy, Degas drew and painted his aunt Laura, her husband the baron Gennaro Bellelli (1812–1864), and their daughters Giulia and Giovanna.\n"
     ]
    },
    {
     "name": "stderr",
     "output_type": "stream",
     "text": [
      " 68%|██████▊   | 68/100 [2:34:17<1:16:12, 142.89s/it]"
     ]
    },
    {
     "name": "stdout",
     "output_type": "stream",
     "text": [
      "Error with: Laura Bellelli's countenance is dignified and austere, her gesture connected with those of her daughters.\n"
     ]
    },
    {
     "name": "stderr",
     "output_type": "stream",
     "text": [
      " 70%|███████   | 70/100 [2:36:43<54:25, 108.84s/it]  "
     ]
    },
    {
     "name": "stdout",
     "output_type": "stream",
     "text": [
      "Error with: But the graceful contrapposto of Catherine's pose is typical of the influence of Leonardo da Vinci on Raphael, and is believed to be an echo of Leonardo's lost painting Leda and the Swan.\n"
     ]
    },
    {
     "name": "stderr",
     "output_type": "stream",
     "text": [
      " 71%|███████   | 71/100 [2:38:01<48:14, 99.81s/it] "
     ]
    },
    {
     "name": "stdout",
     "output_type": "stream",
     "text": [
      "Error with: Among Dürer's depiction of St. Jerome,  this is the one more resembling a portrait, with little space left for the study and its details (such as in his 1514 etching, where the saint is a small figure in the background).\n"
     ]
    },
    {
     "name": "stderr",
     "output_type": "stream",
     "text": [
      " 74%|███████▍  | 74/100 [2:39:51<24:43, 57.06s/it]"
     ]
    },
    {
     "name": "stdout",
     "output_type": "stream",
     "text": [
      "Error with: The yarnwinder serves both as a symbol of Mary's domesticity and as a foreshadowing of the Cross on which Christ was crucified.\n",
      "Error with: The composition of the Madonna of the Yarnwinder shows the Christ child twisting his body away from his mother's embrace, his eye caught by her yarnwinder whose spokes give it the shape of a cross; he precociously recognises it as a symbol of his destiny.\n",
      "Error with: The use of a symbol of the Passion as an object of childish play recurs throughout Leonardo's painted oeuvre, appearing for instance in the Benois Madonna and the Virgin and Child with St Anne.\n",
      "Error with: the “late” character of the landscape in the Lansdowne Madonna suggests that it was the later painting to be completed and that the Buccleuch Madonna was the one sent to Robertet in 1507.The underdrawings of both the Buccleuch and Lansdowne Madonnas show several features not in the finished works, but present in some copies; it is likely that these were originally copied from the prime versions during an early stage of the composition's development.\n",
      "Error with: One such feature, which appears in both underdrawings, is a group of figures identified as St Joseph making a baby walker for the Christ child, who appears with his mother and another female figure, probably a midwife.\n",
      "Error with: It has also been suggested that the child learning to walk is the infant John the Baptist, appearing with his mother St Elizabeth, as Leonardo would have been unlikely to depict the figures of Mary and Christ twice in the same painting.\n"
     ]
    },
    {
     "name": "stderr",
     "output_type": "stream",
     "text": [
      " 75%|███████▌  | 75/100 [2:49:31<1:29:08, 213.94s/it]"
     ]
    },
    {
     "name": "stdout",
     "output_type": "stream",
     "text": [
      "Error with: As in Diego Velasquez's 1632 Christ Crucified, the artist shows Christ's two feet nailed separately - the number of nails used to crucify Christ was then a matter of controversy, with Bridget of Sweden writing of four nails.\n",
      "Error with: One of these was Christ on the Cross, which was so admired by the artist's contemporaries that Seville's city council suggested he moved there permanently in 1629.\n"
     ]
    },
    {
     "name": "stderr",
     "output_type": "stream",
     "text": [
      " 76%|███████▌  | 76/100 [2:52:37<1:22:10, 205.44s/it]"
     ]
    },
    {
     "name": "stdout",
     "output_type": "stream",
     "text": [
      "Error with: Both works also draw on a Counter Reformation trend after the Council of Trent to depictions focusing solely on Christ rather than those gathered around the cross.\n"
     ]
    },
    {
     "name": "stderr",
     "output_type": "stream",
     "text": [
      " 77%|███████▋  | 77/100 [2:54:00<1:04:39, 168.66s/it]"
     ]
    },
    {
     "name": "stdout",
     "output_type": "stream",
     "text": [
      "Error with: In 1881, when the picture was moved to canvas, it was discovered that in the original version the Madonna contemplated a pomegranate (symbol of the Passion) instead of the book.\n"
     ]
    },
    {
     "name": "stderr",
     "output_type": "stream",
     "text": [
      " 80%|████████  | 80/100 [2:56:24<29:13, 87.66s/it]   "
     ]
    },
    {
     "name": "stdout",
     "output_type": "stream",
     "text": [
      "Error with: The central painting within the three arcades shows the Coronation of the Virgin set in Paradise (alluded by the blue starred belts), with two rows of saints at the sides and a large number of angels behind the throne of Jesus and the Madonna.\n"
     ]
    },
    {
     "name": "stderr",
     "output_type": "stream",
     "text": [
      " 82%|████████▏ | 82/100 [2:58:02<19:19, 64.42s/it]"
     ]
    },
    {
     "name": "stdout",
     "output_type": "stream",
     "text": [
      "Error with: Portrait of Madame Récamier is an 1800 portrait of the Parisian socialite Juliette Récamier by Jacques-Louis David showing her in the height of Neoclassical fashion,  reclining on an Directoire style sofa in a simple Empire line dress with almost bare arms, and short hair \"à la Titus\".\n"
     ]
    },
    {
     "name": "stderr",
     "output_type": "stream",
     "text": [
      " 83%|████████▎ | 83/100 [3:00:22<24:38, 86.96s/it]"
     ]
    },
    {
     "name": "stdout",
     "output_type": "stream",
     "text": [
      "Error with: René Magritte also parodied David's painting in his own Perspective: Madame Récamier by David, showing a coffin reclining, now in the National Gallery of Canada.\n"
     ]
    },
    {
     "name": "stderr",
     "output_type": "stream",
     "text": [
      " 86%|████████▌ | 86/100 [3:05:23<23:58, 102.76s/it]"
     ]
    },
    {
     "name": "stdout",
     "output_type": "stream",
     "text": [
      "Error with: It was shown together with van Gogh's Irises, which was added by Vincent's brother, Theo, although Vincent had proposed including one of his paintings from the public gardens in Arles.\n"
     ]
    },
    {
     "name": "stderr",
     "output_type": "stream",
     "text": [
      " 89%|████████▉ | 89/100 [3:11:03<20:51, 113.77s/it]"
     ]
    },
    {
     "name": "stdout",
     "output_type": "stream",
     "text": [
      "Error with: Van der Weyden positioned Christ's body in the T-shape of a crossbow to reflect the commission from the Leuven guild of archers (Schutterij) for their chapel\n",
      "Error with: Art historians have commented that this work was arguably the most influential Netherlandish painting of Christ's crucifixion, and that it was copied and adapted on a large scale in the two centuries after its completion.\n",
      "Error with: The emotional impact of the weeping mourners grieving over Christ's body, and the subtle depiction of space in van der Weyden's work have generated extensive critical comments, one of the most famous being, that of Erwin Panofsky: \"It may be said that the painted tear, a shining pearl born of the strongest emotion, epitomizes that which Italian most admired in Early Flemish painting: pictorial brilliance and sentiment\".\n",
      "Error with: According to the canonical gospels, Joseph of Arimathea took Christ's body and prepared it for burial.\n",
      "Error with: Barbara Lane suggests this passage from the Vita Christi might lie behind many paintings of the Deposition, including Rogier's: \"Then the lady reverently receives the hanging right hand and places it against her cheek gazes upon it, and kisses it with heavy tears and sorrowful sighs.\n",
      "Error with: In her history of the veneration of the Virgin Mary, Miri Rubin writes that in the early 15th-century artists began to depict the \"Swoon of the Virgin\" or Mary swooning at the foot of the cross or at other moments, and that van der Weyden's Descent was the most influential painting to show this moment.\n",
      "Error with: Art historian Lorne Campbell has identified the figures in the painting as (from left to right): Mary Cleophas (half-sister to the Virgin Mary); John the Evangelist, Mary Salome (in green, another half-sister of the Virgin Mary), The Virgin Mary (swooning), the corpse of Jesus Christ, Nicodemus (in red), a young man on the ladder – either a servant of Nicodemus or of Joseph of Arimathea, Joseph of Arimathea (in field-of-cloth-of-gold robes, the most sumptuous costume in the painting), the bearded man behind Joseph holding a jar and probably another servant and Mary Magdalene who adopts a dramatic pose on the right of the painting.\n"
     ]
    },
    {
     "name": "stderr",
     "output_type": "stream",
     "text": [
      " 90%|█████████ | 90/100 [3:22:03<46:17, 277.76s/it]"
     ]
    },
    {
     "name": "stdout",
     "output_type": "stream",
     "text": [
      "Error with: Dirk de Vos identifies Joseph of Arimathea as the man in red supporting Christ's body, and Nicodemus as the man supporting Christ's legs, the opposite of Campbell's identification.\n",
      "Error with: It shows three scenes of Leda's seduction by Jupiter who has taken the form of a swan.\n",
      "Error with: Their first meeting is shown on the right hand side and their lovemaking in the centre, where Leda sits with the swan between her thighs, guiding him with her left hand.\n"
     ]
    },
    {
     "name": "stderr",
     "output_type": "stream",
     "text": [
      " 94%|█████████▍| 94/100 [3:26:42<11:06, 111.08s/it]"
     ]
    },
    {
     "name": "stdout",
     "output_type": "stream",
     "text": [
      "Error with: Adam is shown scratching the right crown part of his scalp.\n"
     ]
    },
    {
     "name": "stderr",
     "output_type": "stream",
     "text": [
      " 96%|█████████▌| 96/100 [3:29:25<06:14, 93.75s/it] "
     ]
    },
    {
     "name": "stdout",
     "output_type": "stream",
     "text": [
      "Error with: In this scene, a few Jews, mainly Scribes and Pharisees, tried to catch Jesus condoning disobedience to the Jewish Law, knowing that Jesus pitied wrong-doers.\n"
     ]
    },
    {
     "name": "stderr",
     "output_type": "stream",
     "text": [
      " 99%|█████████▉| 99/100 [3:34:28<01:37, 97.46s/it] "
     ]
    },
    {
     "name": "stdout",
     "output_type": "stream",
     "text": [
      "Error with: In Friedrich's oeuvre, paintings with a sharp contrast between the foreground and background are common, a separation symbolizing the spiritual and physical planes of existence.\n"
     ]
    },
    {
     "name": "stderr",
     "output_type": "stream",
     "text": [
      "100%|██████████| 100/100 [3:35:14<00:00, 129.15s/it]\n"
     ]
    }
   ],
   "source": [
    "falcon_res={}\n",
    "for qid,anns in tqdm(test_set.items()):\n",
    "    falcon_res[qid]=[]\n",
    "    for sentence in anns:\n",
    "        text=sentence['text']\n",
    "        try:\n",
    "            res=get_falcon(text)\n",
    "            falcon_res[qid].append({'text':text,'falcon':res})\n",
    "        except:\n",
    "            falcon_res[qid].append({'text':text,'falcon':\"Error\"})\n",
    "            print('Error with:',text)\n",
    "\n",
    "with open('falcon_res.json','w') as f:\n",
    "    json.dump(falcon_res,f)"
   ]
  },
  {
   "cell_type": "code",
   "execution_count": null,
   "metadata": {},
   "outputs": [],
   "source": []
  }
 ],
 "metadata": {
  "kernelspec": {
   "display_name": "Python 3",
   "language": "python",
   "name": "python3"
  },
  "language_info": {
   "codemirror_mode": {
    "name": "ipython",
    "version": 3
   },
   "file_extension": ".py",
   "mimetype": "text/x-python",
   "name": "python",
   "nbconvert_exporter": "python",
   "pygments_lexer": "ipython3",
   "version": "3.11.9"
  }
 },
 "nbformat": 4,
 "nbformat_minor": 2
}
