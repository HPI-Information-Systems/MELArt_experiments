{
 "cells": [
  {
   "cell_type": "code",
   "execution_count": 1,
   "metadata": {},
   "outputs": [],
   "source": [
    "import requests\n",
    "import json\n",
    "from tqdm import tqdm\n",
    "from pathlib import Path"
   ]
  },
  {
   "cell_type": "code",
   "execution_count": 7,
   "metadata": {},
   "outputs": [],
   "source": [
    "\"\"\" simulate curl --header \"Content-Type: application/json\" \\\n",
    "  --request POST \\\n",
    "  --data '{\"text\":\"Who painted The Storm on the Sea of Galilee?\"}' \\\n",
    "  'https://labs.tib.eu/falcon/falcon2/api?mode=long&k=50'\n",
    "\"\"\"\n",
    "#use a function receiving the text\n",
    "def get_falcon(text):\n",
    "    #url of the api\n",
    "    url = 'https://labs.tib.eu/falcon/falcon2/api?mode=long&k=50'\n",
    "    #data to be sent\n",
    "    data = {'text': text}\n",
    "    #headers\n",
    "    headers = {'Content-Type': 'application/json'}\n",
    "    #send the request\n",
    "    response = requests.post(url, headers=headers, data=json.dumps(data))\n",
    "    #return the response\n",
    "    return response.json()"
   ]
  },
  {
   "cell_type": "code",
   "execution_count": 8,
   "metadata": {},
   "outputs": [
    {
     "data": {
      "text/plain": [
       "{'entities_wikidata': [{'URI': 'http://www.wikidata.org/entity/Q2246489',\n",
       "   'surface form': 'Storm on the Sea of Galilee'},\n",
       "  {'URI': 'http://www.wikidata.org/entity/Q2246489',\n",
       "   'surface form': 'Storm on the Sea of Galilee'},\n",
       "  {'URI': 'http://www.wikidata.org/entity/Q21712166',\n",
       "   'surface form': 'Storm on the Sea of Galilee'},\n",
       "  {'URI': 'http://www.wikidata.org/entity/Q27898358',\n",
       "   'surface form': 'Storm on the Sea of Galilee'},\n",
       "  {'URI': 'http://www.wikidata.org/entity/Q20355284',\n",
       "   'surface form': 'Storm on the Sea of Galilee'},\n",
       "  {'URI': 'http://www.wikidata.org/entity/Q18748474',\n",
       "   'surface form': 'Storm on the Sea of Galilee'},\n",
       "  {'URI': 'http://www.wikidata.org/entity/Q20808844',\n",
       "   'surface form': 'Storm on the Sea of Galilee'},\n",
       "  {'URI': 'http://www.wikidata.org/entity/Q28778027',\n",
       "   'surface form': 'Storm on the Sea of Galilee'},\n",
       "  {'URI': 'http://www.wikidata.org/entity/Q17321007',\n",
       "   'surface form': 'Storm on the Sea of Galilee'},\n",
       "  {'URI': 'http://www.wikidata.org/entity/Q19911431',\n",
       "   'surface form': 'Storm on the Sea of Galilee'},\n",
       "  {'URI': 'http://www.wikidata.org/entity/Q7440096',\n",
       "   'surface form': 'Storm on the Sea of Galilee'},\n",
       "  {'URI': 'http://www.wikidata.org/entity/Q3224982',\n",
       "   'surface form': 'Storm on the Sea of Galilee'},\n",
       "  {'URI': 'http://www.wikidata.org/entity/Q30295493',\n",
       "   'surface form': 'Storm on the Sea of Galilee'},\n",
       "  {'URI': 'http://www.wikidata.org/entity/Q41111062',\n",
       "   'surface form': 'Storm on the Sea of Galilee'},\n",
       "  {'URI': 'http://www.wikidata.org/entity/Q51413385',\n",
       "   'surface form': 'Storm on the Sea of Galilee'},\n",
       "  {'URI': 'http://www.wikidata.org/entity/Q48420360',\n",
       "   'surface form': 'Storm on the Sea of Galilee'},\n",
       "  {'URI': 'http://www.wikidata.org/entity/Q34678326',\n",
       "   'surface form': 'Storm on the Sea of Galilee'},\n",
       "  {'URI': 'http://www.wikidata.org/entity/Q52704919',\n",
       "   'surface form': 'Storm on the Sea of Galilee'},\n",
       "  {'URI': 'http://www.wikidata.org/entity/Q35809281',\n",
       "   'surface form': 'Storm on the Sea of Galilee'},\n",
       "  {'URI': 'http://www.wikidata.org/entity/Q51143264',\n",
       "   'surface form': 'Storm on the Sea of Galilee'}],\n",
       " 'relations_wikidata': [{'URI': 'http://www.wikidata.org/entity/P7937',\n",
       "   'surface form': 'painted'},\n",
       "  {'URI': 'http://www.wikidata.org/entity/P170', 'surface form': 'painted'},\n",
       "  {'URI': 'http://www.wikidata.org/entity/P123', 'surface form': 'painted'},\n",
       "  {'URI': 'http://www.wikidata.org/entity/P1071', 'surface form': 'painted'},\n",
       "  {'URI': 'http://www.wikidata.org/entity/P872', 'surface form': 'painted'},\n",
       "  {'URI': 'http://www.wikidata.org/entity/P7903', 'surface form': 'painted'},\n",
       "  {'URI': 'http://www.wikidata.org/entity/P5493', 'surface form': 'painted'},\n",
       "  {'URI': 'http://www.wikidata.org/entity/P1932', 'surface form': 'painted'}]}"
      ]
     },
     "execution_count": 8,
     "metadata": {},
     "output_type": "execute_result"
    }
   ],
   "source": [
    "res=get_falcon(\"Who painted The Storm on the Sea of Galilee?\")\n",
    "res"
   ]
  },
  {
   "cell_type": "code",
   "execution_count": 2,
   "metadata": {},
   "outputs": [
    {
     "data": {
      "text/plain": [
       "True"
      ]
     },
     "execution_count": 2,
     "metadata": {},
     "output_type": "execute_result"
    }
   ],
   "source": [
    "path_test_set=Path(\"curated_annotations.json\")\n",
    "path_test_set.exists()"
   ]
  },
  {
   "cell_type": "code",
   "execution_count": 3,
   "metadata": {},
   "outputs": [],
   "source": [
    "test_set=json.loads(open(path_test_set).read())"
   ]
  },
  {
   "cell_type": "code",
   "execution_count": 4,
   "metadata": {},
   "outputs": [],
   "source": [
    "path_falcon_res=Path(\"falcon_res.json\")"
   ]
  },
  {
   "cell_type": "code",
   "execution_count": 5,
   "metadata": {},
   "outputs": [],
   "source": [
    "falcon_res={}\n",
    "if path_falcon_res.exists():\n",
    "    falcon_res=json.loads(open(path_falcon_res).read())"
   ]
  },
  {
   "cell_type": "code",
   "execution_count": 9,
   "metadata": {},
   "outputs": [
    {
     "name": "stderr",
     "output_type": "stream",
     "text": [
      "100%|██████████| 100/100 [04:47<00:00,  2.87s/it]\n"
     ]
    }
   ],
   "source": [
    "for qid,anns in tqdm(test_set.items()):\n",
    "    if not qid in falcon_res:\n",
    "        falcon_res[qid]=[]\n",
    "    for sentence in anns:\n",
    "        text=sentence['text']\n",
    "        if any([text==x['text'] and x['falcon']!=\"Error\" for x in falcon_res[qid]]):\n",
    "            continue\n",
    "        try:\n",
    "            res=get_falcon(text)\n",
    "        except:\n",
    "            res=\"Error\"\n",
    "            print('Error with:',text)\n",
    "        for x in falcon_res[qid]:\n",
    "            if x['text']==text:\n",
    "                falcon_res[qid].remove(x)\n",
    "        falcon_res[qid].append({'text':text,'falcon':res})\n",
    "\n",
    "with open('falcon_res.json','w') as f:\n",
    "    json.dump(falcon_res,f)"
   ]
  },
  {
   "cell_type": "code",
   "execution_count": null,
   "metadata": {},
   "outputs": [],
   "source": []
  }
 ],
 "metadata": {
  "kernelspec": {
   "display_name": "Python 3",
   "language": "python",
   "name": "python3"
  },
  "language_info": {
   "codemirror_mode": {
    "name": "ipython",
    "version": 3
   },
   "file_extension": ".py",
   "mimetype": "text/x-python",
   "name": "python",
   "nbconvert_exporter": "python",
   "pygments_lexer": "ipython3",
   "version": "3.11.9"
  }
 },
 "nbformat": 4,
 "nbformat_minor": 2
}
