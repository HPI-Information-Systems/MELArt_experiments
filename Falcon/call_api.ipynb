{
 "cells": [
  {
   "cell_type": "code",
   "execution_count": 1,
   "metadata": {},
   "outputs": [],
   "source": [
    "import requests\n",
    "import json\n",
    "from tqdm import tqdm\n",
    "from pathlib import Path\n",
    "import sys\n",
    "sys.path.append('..')\n",
    "import paths\n"
   ]
  },
  {
   "cell_type": "code",
   "execution_count": 2,
   "metadata": {},
   "outputs": [],
   "source": [
    "\"\"\" simulate curl --header \"Content-Type: application/json\" \\\n",
    "  --request POST \\\n",
    "  --data '{\"text\":\"Who painted The Storm on the Sea of Galilee?\"}' \\\n",
    "  'https://labs.tib.eu/falcon/falcon2/api?mode=long&k=50'\n",
    "\"\"\"\n",
    "#use a function receiving the text\n",
    "def get_falcon(text):\n",
    "    #url of the api\n",
    "    url = 'https://labs.tib.eu/falcon/falcon2/api?mode=long&k=50'\n",
    "    #data to be sent\n",
    "    data = {'text': text}\n",
    "    #headers\n",
    "    headers = {'Content-Type': 'application/json'}\n",
    "    #send the request\n",
    "    response = requests.post(url, headers=headers, data=json.dumps(data))\n",
    "    #return the response\n",
    "    return response.json()"
   ]
  },
  {
   "cell_type": "code",
   "execution_count": 3,
   "metadata": {},
   "outputs": [
    {
     "data": {
      "text/plain": [
       "{'entities_wikidata': [{'URI': 'http://www.wikidata.org/entity/Q2246489',\n",
       "   'surface form': 'Storm on the Sea of Galilee'},\n",
       "  {'URI': 'http://www.wikidata.org/entity/Q2246489',\n",
       "   'surface form': 'Storm on the Sea of Galilee'},\n",
       "  {'URI': 'http://www.wikidata.org/entity/Q21712166',\n",
       "   'surface form': 'Storm on the Sea of Galilee'},\n",
       "  {'URI': 'http://www.wikidata.org/entity/Q27898358',\n",
       "   'surface form': 'Storm on the Sea of Galilee'},\n",
       "  {'URI': 'http://www.wikidata.org/entity/Q20355284',\n",
       "   'surface form': 'Storm on the Sea of Galilee'},\n",
       "  {'URI': 'http://www.wikidata.org/entity/Q18748474',\n",
       "   'surface form': 'Storm on the Sea of Galilee'},\n",
       "  {'URI': 'http://www.wikidata.org/entity/Q20808844',\n",
       "   'surface form': 'Storm on the Sea of Galilee'},\n",
       "  {'URI': 'http://www.wikidata.org/entity/Q28778027',\n",
       "   'surface form': 'Storm on the Sea of Galilee'},\n",
       "  {'URI': 'http://www.wikidata.org/entity/Q17321007',\n",
       "   'surface form': 'Storm on the Sea of Galilee'},\n",
       "  {'URI': 'http://www.wikidata.org/entity/Q19911431',\n",
       "   'surface form': 'Storm on the Sea of Galilee'},\n",
       "  {'URI': 'http://www.wikidata.org/entity/Q7440096',\n",
       "   'surface form': 'Storm on the Sea of Galilee'},\n",
       "  {'URI': 'http://www.wikidata.org/entity/Q3224982',\n",
       "   'surface form': 'Storm on the Sea of Galilee'},\n",
       "  {'URI': 'http://www.wikidata.org/entity/Q30295493',\n",
       "   'surface form': 'Storm on the Sea of Galilee'},\n",
       "  {'URI': 'http://www.wikidata.org/entity/Q41111062',\n",
       "   'surface form': 'Storm on the Sea of Galilee'},\n",
       "  {'URI': 'http://www.wikidata.org/entity/Q51413385',\n",
       "   'surface form': 'Storm on the Sea of Galilee'},\n",
       "  {'URI': 'http://www.wikidata.org/entity/Q48420360',\n",
       "   'surface form': 'Storm on the Sea of Galilee'},\n",
       "  {'URI': 'http://www.wikidata.org/entity/Q34678326',\n",
       "   'surface form': 'Storm on the Sea of Galilee'},\n",
       "  {'URI': 'http://www.wikidata.org/entity/Q52704919',\n",
       "   'surface form': 'Storm on the Sea of Galilee'},\n",
       "  {'URI': 'http://www.wikidata.org/entity/Q35809281',\n",
       "   'surface form': 'Storm on the Sea of Galilee'},\n",
       "  {'URI': 'http://www.wikidata.org/entity/Q51143264',\n",
       "   'surface form': 'Storm on the Sea of Galilee'}],\n",
       " 'relations_wikidata': [{'URI': 'http://www.wikidata.org/entity/P7937',\n",
       "   'surface form': 'painted'},\n",
       "  {'URI': 'http://www.wikidata.org/entity/P170', 'surface form': 'painted'},\n",
       "  {'URI': 'http://www.wikidata.org/entity/P123', 'surface form': 'painted'},\n",
       "  {'URI': 'http://www.wikidata.org/entity/P1071', 'surface form': 'painted'},\n",
       "  {'URI': 'http://www.wikidata.org/entity/P872', 'surface form': 'painted'},\n",
       "  {'URI': 'http://www.wikidata.org/entity/P7903', 'surface form': 'painted'},\n",
       "  {'URI': 'http://www.wikidata.org/entity/P5493', 'surface form': 'painted'},\n",
       "  {'URI': 'http://www.wikidata.org/entity/P1932', 'surface form': 'painted'}]}"
      ]
     },
     "execution_count": 3,
     "metadata": {},
     "output_type": "execute_result"
    }
   ],
   "source": [
    "res=get_falcon(\"Who painted The Storm on the Sea of Galilee?\")\n",
    "res"
   ]
  },
  {
   "cell_type": "code",
   "execution_count": 4,
   "metadata": {},
   "outputs": [
    {
     "data": {
      "text/plain": [
       "True"
      ]
     },
     "execution_count": 4,
     "metadata": {},
     "output_type": "execute_result"
    }
   ],
   "source": [
    "annotation_path=paths.COMBINED_ANNOTATIONS_PATH\n",
    "annotation_path.exists()"
   ]
  },
  {
   "cell_type": "code",
   "execution_count": 5,
   "metadata": {},
   "outputs": [
    {
     "data": {
      "text/plain": [
       "PosixPath('/hpi/fs00/home/alejandro.sierra/MELArt/output_files/melart_annotations.json')"
      ]
     },
     "execution_count": 5,
     "metadata": {},
     "output_type": "execute_result"
    }
   ],
   "source": [
    "annotation_path"
   ]
  },
  {
   "cell_type": "code",
   "execution_count": 6,
   "metadata": {},
   "outputs": [
    {
     "data": {
      "text/plain": [
       "100"
      ]
     },
     "execution_count": 6,
     "metadata": {},
     "output_type": "execute_result"
    }
   ],
   "source": [
    "annotations=json.loads(open(annotation_path).read())\n",
    "#test set when split=\"test\"\n",
    "test_set={x:y for x,y in annotations.items() if y['split']=='test'}\n",
    "len(test_set)"
   ]
  },
  {
   "cell_type": "code",
   "execution_count": 7,
   "metadata": {},
   "outputs": [
    {
     "data": {
      "text/plain": [
       "{'P180': ['http://www.wikidata.org/entity/Q345',\n",
       "  'http://www.wikidata.org/entity/Q942467'],\n",
       " 'P18': ['http://commons.wikimedia.org/wiki/Special:FilePath/Cimabue%20032.jpg'],\n",
       " 'visual_sentences': ['It is also stylistically earlier to that work, being painted without pseudo-perspective, and having the angels around the Virgin simply placed one above the other, rather than being spatially arranged.',\n",
       "  'The throne is similar to the Maestà painted by Cimabue in the Basilica of San Francesco di Assisi (1288–1292).'],\n",
       " 'contextual_sentences': ['The Maestà is a painting by the Italian artist   Cimabue, painted around 1280 and housed in Musée du Louvre of Paris, France.',\n",
       "  'The work is considered to be from around 1280, thus preceding the Santa Trinita Maestà.',\n",
       "  'This work established a new canon for the Madonna with Child theme, which was subsequently used by other painters, such as Duccio di Buoninsegna in his Rucellai Maestà.'],\n",
       " 'title': 'Maestà (Cimabue)',\n",
       " 'img_url': 'http://commons.wikimedia.org/wiki/Special:FilePath/Cimabue%20032.jpg',\n",
       " 'old_img_url': 'https://upload.wikimedia.org/wikipedia/commons/8/8c/Cimabue_-_Maest%C3%A0_du_Louvre.jpg',\n",
       " 'split': 'test',\n",
       " 'year': 1280,\n",
       " 'visual_el_matches': [[{'qid': 'http://www.wikidata.org/entity/Q345',\n",
       "    'text': 'Virgin',\n",
       "    'start': 122,\n",
       "    'end': 128}],\n",
       "  []],\n",
       " 'contextual_el_matches': [[],\n",
       "  [],\n",
       "  [{'qid': 'http://www.wikidata.org/entity/Q345',\n",
       "    'text': 'Madonna',\n",
       "    'start': 42,\n",
       "    'end': 49},\n",
       "   {'qid': 'http://www.wikidata.org/entity/Q942467',\n",
       "    'text': 'Child',\n",
       "    'start': 55,\n",
       "    'end': 60}]]}"
      ]
     },
     "execution_count": 7,
     "metadata": {},
     "output_type": "execute_result"
    }
   ],
   "source": [
    "test_set[list(test_set.keys())[0]]"
   ]
  },
  {
   "cell_type": "code",
   "execution_count": 8,
   "metadata": {},
   "outputs": [],
   "source": [
    "path_falcon_res=Path(\"falcon_res.json\")"
   ]
  },
  {
   "cell_type": "code",
   "execution_count": 9,
   "metadata": {},
   "outputs": [],
   "source": [
    "falcon_res={}\n",
    "if path_falcon_res.exists():\n",
    "    falcon_res=json.loads(open(path_falcon_res).read())"
   ]
  },
  {
   "cell_type": "code",
   "execution_count": 10,
   "metadata": {},
   "outputs": [
    {
     "name": "stderr",
     "output_type": "stream",
     "text": [
      "  0%|          | 0/100 [00:00<?, ?it/s]"
     ]
    },
    {
     "name": "stderr",
     "output_type": "stream",
     "text": [
      "100%|██████████| 100/100 [01:03<00:00,  1.57it/s]\n"
     ]
    }
   ],
   "source": [
    "for qid,anns in tqdm(test_set.items()):\n",
    "    if not qid in falcon_res:\n",
    "        falcon_res[qid]=[]\n",
    "    sentences=[]\n",
    "    for sentence_field,matches_field in [('visual_sentences','visual_el_matches'),('contextual_sentences','contextual_el_matches')]:\n",
    "        for i,sentence in enumerate(anns[sentence_field]):\n",
    "            if anns[matches_field][i]:\n",
    "                sentences.append(sentence)\n",
    "    for sentence in sentences:\n",
    "        text=sentence\n",
    "        if any([text==x['text'] and x['falcon']!=\"Error\" for x in falcon_res[qid]]):\n",
    "            continue\n",
    "        try:\n",
    "            res=get_falcon(text)\n",
    "        except:\n",
    "            res=\"Error\"\n",
    "            print('Error with:',text)\n",
    "        for x in falcon_res[qid]:\n",
    "            if x['text']==text:\n",
    "                falcon_res[qid].remove(x)\n",
    "        falcon_res[qid].append({'text':text,'falcon':res})\n",
    "\n",
    "with open('falcon_res.json','w') as f:\n",
    "    json.dump(falcon_res,f)"
   ]
  }
 ],
 "metadata": {
  "kernelspec": {
   "display_name": "Python 3",
   "language": "python",
   "name": "python3"
  },
  "language_info": {
   "codemirror_mode": {
    "name": "ipython",
    "version": 3
   },
   "file_extension": ".py",
   "mimetype": "text/x-python",
   "name": "python",
   "nbconvert_exporter": "python",
   "pygments_lexer": "ipython3",
   "version": "3.12.4"
  }
 },
 "nbformat": 4,
 "nbformat_minor": 2
}
